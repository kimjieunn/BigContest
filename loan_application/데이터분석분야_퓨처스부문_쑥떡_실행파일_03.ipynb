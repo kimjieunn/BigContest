{
 "cells": [
  {
   "cell_type": "markdown",
   "metadata": {
    "id": "IskgGdTZzLs6"
   },
   "source": [
    "# 1. 분석환경 설정하기"
   ]
  },
  {
   "cell_type": "markdown",
   "metadata": {
    "id": "DXScSDJgzQeP"
   },
   "source": [
    "## 경로설정"
   ]
  },
  {
   "cell_type": "code",
   "execution_count": 1,
   "metadata": {
    "colab": {
     "base_uri": "https://localhost:8080/"
    },
    "id": "UXBPrPSIzQa1",
    "outputId": "13629c3b-503d-4ca6-8d5f-3de6f88038a9"
   },
   "outputs": [],
   "source": [
    "# from google.colab import drive\n",
    "# drive.mount('/content/drive')"
   ]
  },
  {
   "cell_type": "code",
   "execution_count": 2,
   "metadata": {
    "colab": {
     "base_uri": "https://localhost:8080/"
    },
    "id": "Ul3F6QZ8zQYD",
    "outputId": "ff59b178-3994-4ad7-a3f2-c8987006b4fc"
   },
   "outputs": [],
   "source": [
    "# cd /content/drive/MyDrive/프로젝트/뿌셔뿌셔_쑥떡"
   ]
  },
  {
   "cell_type": "markdown",
   "metadata": {
    "id": "ftZasyA6zQVH"
   },
   "source": [
    "## 라이브러리 설정"
   ]
  },
  {
   "cell_type": "code",
   "execution_count": 1,
   "metadata": {
    "id": "O-SiaCrFzQR_"
   },
   "outputs": [],
   "source": [
    "import pandas as pd\n",
    "import numpy as np\n",
    "import matplotlib.pyplot as plt\n",
    "import seaborn as sns\n",
    "\n",
    "from datetime import datetime\n",
    "\n",
    "from sklearn.cluster import KMeans"
   ]
  },
  {
   "cell_type": "markdown",
   "metadata": {
    "id": "p07JKCp8zQOr"
   },
   "source": [
    "# 2. 데이터 불러오기"
   ]
  },
  {
   "cell_type": "code",
   "execution_count": 2,
   "metadata": {
    "id": "UvpYTBg6zQI3"
   },
   "outputs": [],
   "source": [
    "# 전처리된 데이터 불러오기\n",
    "user_spec = pd.read_csv('pp_user_spec.csv')\n",
    "log_data = pd.read_csv('pp_log_data.csv')\n",
    "\n",
    "# 평가 데이터 불러오기\n",
    "result = pd.read_csv('데이터분석분야_퓨처스부문_쑥떡_평가데이터.csv')"
   ]
  },
  {
   "cell_type": "code",
   "execution_count": 3,
   "metadata": {
    "colab": {
     "base_uri": "https://localhost:8080/",
     "height": 833
    },
    "id": "OSCnHKi_zPbG",
    "outputId": "7fc8dad9-ec57-4c9a-d9f3-cc9ca599a969"
   },
   "outputs": [
    {
     "name": "stdout",
     "output_type": "stream",
     "text": [
      "<class 'pandas.core.frame.DataFrame'>\n",
      "RangeIndex: 1215502 entries, 0 to 1215501\n",
      "Data columns (total 17 columns):\n",
      " #   Column                    Non-Null Count    Dtype  \n",
      "---  ------                    --------------    -----  \n",
      " 0   application_id            1215502 non-null  int64  \n",
      " 1   user_id                   1215502 non-null  int64  \n",
      " 2   gender                    1204773 non-null  float64\n",
      " 3   insert_time               1215502 non-null  object \n",
      " 4   yearly_income             1215502 non-null  float64\n",
      " 5   income_type               1215502 non-null  int64  \n",
      " 6   employment_type           1215502 non-null  int64  \n",
      " 7   houseown_type             1215502 non-null  int64  \n",
      " 8   desired_amount            1215502 non-null  float64\n",
      " 9   purpose                   1215502 non-null  int64  \n",
      " 10  existing_loan_cnt         1051965 non-null  float64\n",
      " 11  existing_loan_amt         950047 non-null   float64\n",
      " 12  age                       1204773 non-null  float64\n",
      " 13  continuous_service_month  1215502 non-null  float64\n",
      " 14  insert_hour               1215502 non-null  int64  \n",
      " 15  pr                        1215502 non-null  int64  \n",
      " 16  credit_rate               1127939 non-null  float64\n",
      "dtypes: float64(8), int64(8), object(1)\n",
      "memory usage: 157.7+ MB\n"
     ]
    },
    {
     "data": {
      "text/plain": [
       "None"
      ]
     },
     "metadata": {},
     "output_type": "display_data"
    },
    {
     "name": "stdout",
     "output_type": "stream",
     "text": [
      "<class 'pandas.core.frame.DataFrame'>\n",
      "RangeIndex: 17843993 entries, 0 to 17843992\n",
      "Data columns (total 3 columns):\n",
      " #   Column     Dtype \n",
      "---  ------     ----- \n",
      " 0   user_id    int64 \n",
      " 1   event      int64 \n",
      " 2   timestamp  object\n",
      "dtypes: int64(2), object(1)\n",
      "memory usage: 408.4+ MB\n"
     ]
    },
    {
     "data": {
      "text/plain": [
       "None"
      ]
     },
     "metadata": {},
     "output_type": "display_data"
    }
   ],
   "source": [
    "display(user_spec.info())\n",
    "display(log_data.info())"
   ]
  },
  {
   "cell_type": "markdown",
   "metadata": {
    "id": "WxotMdZS230P"
   },
   "source": [
    "# 3. 사용 데이터 추출"
   ]
  },
  {
   "cell_type": "code",
   "execution_count": 4,
   "metadata": {
    "id": "FkyiDqAo3Afu"
   },
   "outputs": [],
   "source": [
    "# user_spec에서 6월만 추출\n",
    "user_6 = user_spec[user_spec['insert_time'].str.contains('2022-06')]\n",
    "\n",
    "# log_data에서 6월만 추출\n",
    "log_6 = log_data[log_data['timestamp'].str.contains('2022-06')]"
   ]
  },
  {
   "cell_type": "code",
   "execution_count": 5,
   "metadata": {
    "id": "PNqOGLcu3DXv"
   },
   "outputs": [],
   "source": [
    "# user_6와 평가데이터 합치기 \n",
    "user_result = pd.merge(user_6, result, on=['application_id'])"
   ]
  },
  {
   "cell_type": "code",
   "execution_count": 6,
   "metadata": {
    "id": "gWWoMz6b3H1S"
   },
   "outputs": [],
   "source": [
    "# user_result을 app0과 app1로 나누기\n",
    "app0 = user_result[user_result['is_applied']==0]\n",
    "app1 = user_result[user_result['is_applied']==1]"
   ]
  },
  {
   "cell_type": "code",
   "execution_count": 7,
   "metadata": {
    "colab": {
     "base_uri": "https://localhost:8080/",
     "height": 86
    },
    "id": "xBF1rv5Q3Mbk",
    "outputId": "35caded0-6c9f-4d57-b6b1-3f27d2dd77b8"
   },
   "outputs": [
    {
     "data": {
      "text/plain": [
       "0.0    69977\n",
       "Name: is_applied, dtype: int64"
      ]
     },
     "metadata": {},
     "output_type": "display_data"
    },
    {
     "data": {
      "text/plain": [
       "1.0    1843097\n",
       "Name: is_applied, dtype: int64"
      ]
     },
     "metadata": {},
     "output_type": "display_data"
    }
   ],
   "source": [
    "# 잘 분리되었는지 확인\n",
    "display(app0['is_applied'].value_counts())\n",
    "display(app1['is_applied'].value_counts())"
   ]
  },
  {
   "cell_type": "code",
   "execution_count": 8,
   "metadata": {
    "id": "66E29lXy3MZv"
   },
   "outputs": [],
   "source": [
    "# 분리된 데이터프레임 각가의 user_id를 리스트로 저장\n",
    "app0_id = list(app0['user_id'])\n",
    "app1_id = list(app1['user_id'])"
   ]
  },
  {
   "cell_type": "code",
   "execution_count": 9,
   "metadata": {
    "id": "B6dA18He3MXZ"
   },
   "outputs": [],
   "source": [
    "# 해당 user_id를 가진 log_data 추출\n",
    "isin_id = log_6['user_id'].isin(app0_id)\n",
    "log_0 = log_6.loc[isin_id]\n",
    "\n",
    "isin_id = log_6['user_id'].isin(app1_id)\n",
    "log_1 = log_6.loc[isin_id]"
   ]
  },
  {
   "cell_type": "code",
   "execution_count": 10,
   "metadata": {
    "id": "Hwsufuw-3MTo"
   },
   "outputs": [
    {
     "name": "stdout",
     "output_type": "stream",
     "text": [
      "all_0\n"
     ]
    },
    {
     "data": {
      "text/plain": [
       "application_id              0\n",
       "user_id                     0\n",
       "gender                      0\n",
       "insert_time                 0\n",
       "yearly_income               0\n",
       "income_type                 0\n",
       "employment_type             0\n",
       "houseown_type               0\n",
       "desired_amount              0\n",
       "purpose                     0\n",
       "existing_loan_cnt           0\n",
       "existing_loan_amt           0\n",
       "age                         0\n",
       "continuous_service_month    0\n",
       "insert_hour                 0\n",
       "pr                          0\n",
       "credit_rate                 0\n",
       "product_id                  0\n",
       "is_applied                  0\n",
       "event                       0\n",
       "timestamp                   0\n",
       "dtype: int64"
      ]
     },
     "metadata": {},
     "output_type": "display_data"
    },
    {
     "name": "stdout",
     "output_type": "stream",
     "text": [
      "\n",
      "all_1\n"
     ]
    },
    {
     "data": {
      "text/plain": [
       "application_id              0\n",
       "user_id                     0\n",
       "gender                      0\n",
       "insert_time                 0\n",
       "yearly_income               0\n",
       "income_type                 0\n",
       "employment_type             0\n",
       "houseown_type               0\n",
       "desired_amount              0\n",
       "purpose                     0\n",
       "existing_loan_cnt           0\n",
       "existing_loan_amt           0\n",
       "age                         0\n",
       "continuous_service_month    0\n",
       "insert_hour                 0\n",
       "pr                          0\n",
       "credit_rate                 0\n",
       "product_id                  0\n",
       "is_applied                  0\n",
       "event                       0\n",
       "timestamp                   0\n",
       "dtype: int64"
      ]
     },
     "metadata": {},
     "output_type": "display_data"
    }
   ],
   "source": [
    "# app0과 log_0 합치기\n",
    "all_0 = pd.merge(app0, log_0, on='user_id')\n",
    "print('all_0')\n",
    "display(all_0.isnull().sum())\n",
    "\n",
    "# app1과 log_1 합치기\n",
    "all_1 = pd.merge(app1, log_1, on='user_id')\n",
    "print('\\nall_1')\n",
    "display(all_1.isnull().sum())"
   ]
  },
  {
   "cell_type": "code",
   "execution_count": 11,
   "metadata": {
    "id": "NIa3dnlk3MPp"
   },
   "outputs": [],
   "source": [
    "all_0.drop(['insert_time','timestamp'], axis=1, inplace=True)\n",
    "all_1.drop(['insert_time','timestamp'], axis=1, inplace=True)"
   ]
  },
  {
   "cell_type": "code",
   "execution_count": 12,
   "metadata": {},
   "outputs": [],
   "source": [
    "all_0.to_csv('all_0.csv', index=False)\n",
    "all_1.to_csv('all_1.csv', index=False)"
   ]
  },
  {
   "cell_type": "markdown",
   "metadata": {
    "id": "P9AKCWJ-7M7o"
   },
   "source": [
    "# 4. Clustering"
   ]
  },
  {
   "cell_type": "markdown",
   "metadata": {},
   "source": [
    "## all_0"
   ]
  },
  {
   "cell_type": "code",
   "execution_count": 1,
   "metadata": {},
   "outputs": [],
   "source": [
    "import pandas as pd\n",
    "import numpy as np\n",
    "import matplotlib.pyplot as plt\n",
    "\n",
    "from sklearn.cluster import KMeans"
   ]
  },
  {
   "cell_type": "code",
   "execution_count": 2,
   "metadata": {},
   "outputs": [],
   "source": [
    "all_0 = pd.read_csv('all_0.csv')"
   ]
  },
  {
   "cell_type": "code",
   "execution_count": 3,
   "metadata": {
    "id": "PoOZ90C24Q7Y"
   },
   "outputs": [
    {
     "data": {
      "image/png": "[encoded data removed]",
      "text/plain": [
       "<Figure size 432x288 with 1 Axes>"
      ]
     },
     "metadata": {
      "needs_background": "light"
     },
     "output_type": "display_data"
    }
   ],
   "source": [
    "# Elbow \n",
    "\n",
    "Objectives = []\n",
    "K = range(2,11)\n",
    "for k in K:\n",
    "    km = KMeans(n_clusters=k)\n",
    "    km = km.fit(all_0)\n",
    "    Objectives.append(km.inertia_)\n",
    "\n",
    "plt.plot(K, Objectives, 'bx-')\n",
    "plt.xlabel('k')\n",
    "plt.ylabel('Objectives')\n",
    "plt.xlabel('number of clusters')\n",
    "plt.show() "
   ]
  },
  {
   "cell_type": "markdown",
   "metadata": {},
   "source": [
    "군집의 수 결정 방법: elbow method  \n",
    "- 군집의 개수와 군집내 변동의 합을 그래프로 나타내고, 변동량의 변화가 작아지는 지점의 군집의 수를 적정 군집의 수로 결정함  \n",
    "\n",
    "> Elbow Method를 이용하여 최적의 군집의 수는 5로 결정함"
   ]
  },
  {
   "cell_type": "code",
   "execution_count": 4,
   "metadata": {},
   "outputs": [
    {
     "data": {
      "text/plain": [
       "array([0, 0, 0, ..., 0, 0, 0])"
      ]
     },
     "execution_count": 4,
     "metadata": {},
     "output_type": "execute_result"
    }
   ],
   "source": [
    "model = KMeans(\n",
    "    n_clusters=5,\n",
    "    init=\"k-means++\",\n",
    "    max_iter=100,\n",
    "    n_init=1\n",
    ")\n",
    "model.fit(all_0) # k-means alogorithm 적합\n",
    "model.labels_ "
   ]
  },
  {
   "cell_type": "code",
   "execution_count": 5,
   "metadata": {
    "scrolled": true
   },
   "outputs": [
    {
     "data": {
      "text/html": [
       "<div>\n",
       "<style scoped>\n",
       "    .dataframe tbody tr th:only-of-type {\n",
       "        vertical-align: middle;\n",
       "    }\n",
       "\n",
       "    .dataframe tbody tr th {\n",
       "        vertical-align: top;\n",
       "    }\n",
       "\n",
       "    .dataframe thead th {\n",
       "        text-align: right;\n",
       "    }\n",
       "</style>\n",
       "<table border=\"1\" class=\"dataframe\">\n",
       "  <thead>\n",
       "    <tr style=\"text-align: right;\">\n",
       "      <th></th>\n",
       "      <th>application_id</th>\n",
       "      <th>user_id</th>\n",
       "      <th>gender</th>\n",
       "      <th>yearly_income</th>\n",
       "      <th>income_type</th>\n",
       "      <th>employment_type</th>\n",
       "      <th>houseown_type</th>\n",
       "      <th>desired_amount</th>\n",
       "      <th>purpose</th>\n",
       "      <th>existing_loan_cnt</th>\n",
       "      <th>existing_loan_amt</th>\n",
       "      <th>age</th>\n",
       "      <th>continuous_service_month</th>\n",
       "      <th>insert_hour</th>\n",
       "      <th>pr</th>\n",
       "      <th>credit_rate</th>\n",
       "      <th>product_id</th>\n",
       "      <th>is_applied</th>\n",
       "      <th>event</th>\n",
       "      <th>cluster</th>\n",
       "    </tr>\n",
       "  </thead>\n",
       "  <tbody>\n",
       "    <tr>\n",
       "      <th>0</th>\n",
       "      <td>1614045</td>\n",
       "      <td>860410</td>\n",
       "      <td>1.0</td>\n",
       "      <td>45000000.0</td>\n",
       "      <td>1</td>\n",
       "      <td>3</td>\n",
       "      <td>2</td>\n",
       "      <td>15000000.0</td>\n",
       "      <td>1</td>\n",
       "      <td>1.0</td>\n",
       "      <td>20000000.0</td>\n",
       "      <td>46.0</td>\n",
       "      <td>0.0</td>\n",
       "      <td>11</td>\n",
       "      <td>1</td>\n",
       "      <td>7.0</td>\n",
       "      <td>258</td>\n",
       "      <td>0.0</td>\n",
       "      <td>1</td>\n",
       "      <td>0</td>\n",
       "    </tr>\n",
       "    <tr>\n",
       "      <th>1</th>\n",
       "      <td>1614045</td>\n",
       "      <td>860410</td>\n",
       "      <td>1.0</td>\n",
       "      <td>45000000.0</td>\n",
       "      <td>1</td>\n",
       "      <td>3</td>\n",
       "      <td>2</td>\n",
       "      <td>15000000.0</td>\n",
       "      <td>1</td>\n",
       "      <td>1.0</td>\n",
       "      <td>20000000.0</td>\n",
       "      <td>46.0</td>\n",
       "      <td>0.0</td>\n",
       "      <td>11</td>\n",
       "      <td>1</td>\n",
       "      <td>7.0</td>\n",
       "      <td>258</td>\n",
       "      <td>0.0</td>\n",
       "      <td>2</td>\n",
       "      <td>0</td>\n",
       "    </tr>\n",
       "    <tr>\n",
       "      <th>2</th>\n",
       "      <td>1614045</td>\n",
       "      <td>860410</td>\n",
       "      <td>1.0</td>\n",
       "      <td>45000000.0</td>\n",
       "      <td>1</td>\n",
       "      <td>3</td>\n",
       "      <td>2</td>\n",
       "      <td>15000000.0</td>\n",
       "      <td>1</td>\n",
       "      <td>1.0</td>\n",
       "      <td>20000000.0</td>\n",
       "      <td>46.0</td>\n",
       "      <td>0.0</td>\n",
       "      <td>11</td>\n",
       "      <td>1</td>\n",
       "      <td>7.0</td>\n",
       "      <td>258</td>\n",
       "      <td>0.0</td>\n",
       "      <td>7</td>\n",
       "      <td>0</td>\n",
       "    </tr>\n",
       "    <tr>\n",
       "      <th>3</th>\n",
       "      <td>1614045</td>\n",
       "      <td>860410</td>\n",
       "      <td>1.0</td>\n",
       "      <td>45000000.0</td>\n",
       "      <td>1</td>\n",
       "      <td>3</td>\n",
       "      <td>2</td>\n",
       "      <td>15000000.0</td>\n",
       "      <td>1</td>\n",
       "      <td>1.0</td>\n",
       "      <td>20000000.0</td>\n",
       "      <td>46.0</td>\n",
       "      <td>0.0</td>\n",
       "      <td>11</td>\n",
       "      <td>1</td>\n",
       "      <td>7.0</td>\n",
       "      <td>258</td>\n",
       "      <td>0.0</td>\n",
       "      <td>3</td>\n",
       "      <td>0</td>\n",
       "    </tr>\n",
       "    <tr>\n",
       "      <th>4</th>\n",
       "      <td>1614045</td>\n",
       "      <td>860410</td>\n",
       "      <td>1.0</td>\n",
       "      <td>45000000.0</td>\n",
       "      <td>1</td>\n",
       "      <td>3</td>\n",
       "      <td>2</td>\n",
       "      <td>15000000.0</td>\n",
       "      <td>1</td>\n",
       "      <td>1.0</td>\n",
       "      <td>20000000.0</td>\n",
       "      <td>46.0</td>\n",
       "      <td>0.0</td>\n",
       "      <td>11</td>\n",
       "      <td>1</td>\n",
       "      <td>7.0</td>\n",
       "      <td>258</td>\n",
       "      <td>0.0</td>\n",
       "      <td>10</td>\n",
       "      <td>0</td>\n",
       "    </tr>\n",
       "  </tbody>\n",
       "</table>\n",
       "</div>"
      ],
      "text/plain": [
       "   application_id  user_id  gender  yearly_income  income_type  \\\n",
       "0         1614045   860410     1.0     45000000.0            1   \n",
       "1         1614045   860410     1.0     45000000.0            1   \n",
       "2         1614045   860410     1.0     45000000.0            1   \n",
       "3         1614045   860410     1.0     45000000.0            1   \n",
       "4         1614045   860410     1.0     45000000.0            1   \n",
       "\n",
       "   employment_type  houseown_type  desired_amount  purpose  existing_loan_cnt  \\\n",
       "0                3              2      15000000.0        1                1.0   \n",
       "1                3              2      15000000.0        1                1.0   \n",
       "2                3              2      15000000.0        1                1.0   \n",
       "3                3              2      15000000.0        1                1.0   \n",
       "4                3              2      15000000.0        1                1.0   \n",
       "\n",
       "   existing_loan_amt   age  continuous_service_month  insert_hour  pr  \\\n",
       "0         20000000.0  46.0                       0.0           11   1   \n",
       "1         20000000.0  46.0                       0.0           11   1   \n",
       "2         20000000.0  46.0                       0.0           11   1   \n",
       "3         20000000.0  46.0                       0.0           11   1   \n",
       "4         20000000.0  46.0                       0.0           11   1   \n",
       "\n",
       "   credit_rate  product_id  is_applied  event  cluster  \n",
       "0          7.0         258         0.0      1        0  \n",
       "1          7.0         258         0.0      2        0  \n",
       "2          7.0         258         0.0      7        0  \n",
       "3          7.0         258         0.0      3        0  \n",
       "4          7.0         258         0.0     10        0  "
      ]
     },
     "execution_count": 5,
     "metadata": {},
     "output_type": "execute_result"
    }
   ],
   "source": [
    "all_0['cluster'] = model.labels_ \n",
    "all_0.head()"
   ]
  },
  {
   "cell_type": "code",
   "execution_count": 25,
   "metadata": {
    "scrolled": false
   },
   "outputs": [
    {
     "data": {
      "text/html": [
       "<div>\n",
       "<style scoped>\n",
       "    .dataframe tbody tr th:only-of-type {\n",
       "        vertical-align: middle;\n",
       "    }\n",
       "\n",
       "    .dataframe tbody tr th {\n",
       "        vertical-align: top;\n",
       "    }\n",
       "\n",
       "    .dataframe thead th {\n",
       "        text-align: right;\n",
       "    }\n",
       "</style>\n",
       "<table border=\"1\" class=\"dataframe\">\n",
       "  <thead>\n",
       "    <tr style=\"text-align: right;\">\n",
       "      <th></th>\n",
       "      <th>application_id</th>\n",
       "      <th>user_id</th>\n",
       "      <th>gender</th>\n",
       "      <th>yearly_income</th>\n",
       "      <th>income_type</th>\n",
       "      <th>employment_type</th>\n",
       "      <th>houseown_type</th>\n",
       "      <th>desired_amount</th>\n",
       "      <th>purpose</th>\n",
       "      <th>existing_loan_cnt</th>\n",
       "      <th>existing_loan_amt</th>\n",
       "      <th>age</th>\n",
       "      <th>continuous_service_month</th>\n",
       "      <th>insert_hour</th>\n",
       "      <th>pr</th>\n",
       "      <th>credit_rate</th>\n",
       "      <th>product_id</th>\n",
       "      <th>is_applied</th>\n",
       "      <th>event</th>\n",
       "    </tr>\n",
       "    <tr>\n",
       "      <th>cluster</th>\n",
       "      <th></th>\n",
       "      <th></th>\n",
       "      <th></th>\n",
       "      <th></th>\n",
       "      <th></th>\n",
       "      <th></th>\n",
       "      <th></th>\n",
       "      <th></th>\n",
       "      <th></th>\n",
       "      <th></th>\n",
       "      <th></th>\n",
       "      <th></th>\n",
       "      <th></th>\n",
       "      <th></th>\n",
       "      <th></th>\n",
       "      <th></th>\n",
       "      <th></th>\n",
       "      <th></th>\n",
       "      <th></th>\n",
       "    </tr>\n",
       "  </thead>\n",
       "  <tbody>\n",
       "    <tr>\n",
       "      <th>0</th>\n",
       "      <td>1.097457e+06</td>\n",
       "      <td>481017.619974</td>\n",
       "      <td>0.681839</td>\n",
       "      <td>3.544231e+07</td>\n",
       "      <td>0.919143</td>\n",
       "      <td>2.178486</td>\n",
       "      <td>0.836999</td>\n",
       "      <td>2.076961e+07</td>\n",
       "      <td>0.412221</td>\n",
       "      <td>4.744937</td>\n",
       "      <td>5.998811e+07</td>\n",
       "      <td>43.816613</td>\n",
       "      <td>13.227133</td>\n",
       "      <td>9.724320</td>\n",
       "      <td>1.009062</td>\n",
       "      <td>5.258400</td>\n",
       "      <td>124.614910</td>\n",
       "      <td>0.0</td>\n",
       "      <td>4.476094</td>\n",
       "    </tr>\n",
       "    <tr>\n",
       "      <th>1</th>\n",
       "      <td>1.147709e+06</td>\n",
       "      <td>738476.201860</td>\n",
       "      <td>0.873488</td>\n",
       "      <td>3.172419e+08</td>\n",
       "      <td>1.231628</td>\n",
       "      <td>2.935814</td>\n",
       "      <td>0.855814</td>\n",
       "      <td>9.746977e+09</td>\n",
       "      <td>2.359070</td>\n",
       "      <td>2.393488</td>\n",
       "      <td>2.257730e+08</td>\n",
       "      <td>34.404651</td>\n",
       "      <td>1.797209</td>\n",
       "      <td>11.851163</td>\n",
       "      <td>1.000000</td>\n",
       "      <td>4.313488</td>\n",
       "      <td>136.486512</td>\n",
       "      <td>0.0</td>\n",
       "      <td>4.363721</td>\n",
       "    </tr>\n",
       "    <tr>\n",
       "      <th>2</th>\n",
       "      <td>1.008058e+06</td>\n",
       "      <td>739940.790687</td>\n",
       "      <td>0.862950</td>\n",
       "      <td>1.279637e+08</td>\n",
       "      <td>1.018533</td>\n",
       "      <td>2.962155</td>\n",
       "      <td>0.930385</td>\n",
       "      <td>3.268325e+09</td>\n",
       "      <td>0.995484</td>\n",
       "      <td>2.644915</td>\n",
       "      <td>3.114344e+07</td>\n",
       "      <td>36.430151</td>\n",
       "      <td>0.118829</td>\n",
       "      <td>12.480455</td>\n",
       "      <td>1.000000</td>\n",
       "      <td>5.332970</td>\n",
       "      <td>124.393552</td>\n",
       "      <td>0.0</td>\n",
       "      <td>4.503193</td>\n",
       "    </tr>\n",
       "    <tr>\n",
       "      <th>3</th>\n",
       "      <td>1.064354e+06</td>\n",
       "      <td>383410.822364</td>\n",
       "      <td>0.921444</td>\n",
       "      <td>4.871734e+09</td>\n",
       "      <td>0.609342</td>\n",
       "      <td>1.828025</td>\n",
       "      <td>0.334041</td>\n",
       "      <td>5.426752e+08</td>\n",
       "      <td>0.617127</td>\n",
       "      <td>10.732484</td>\n",
       "      <td>2.884643e+07</td>\n",
       "      <td>50.974522</td>\n",
       "      <td>5.859873</td>\n",
       "      <td>11.438783</td>\n",
       "      <td>1.000000</td>\n",
       "      <td>4.520170</td>\n",
       "      <td>137.546355</td>\n",
       "      <td>0.0</td>\n",
       "      <td>4.927813</td>\n",
       "    </tr>\n",
       "    <tr>\n",
       "      <th>4</th>\n",
       "      <td>1.140180e+06</td>\n",
       "      <td>597786.453463</td>\n",
       "      <td>0.726442</td>\n",
       "      <td>2.286299e+07</td>\n",
       "      <td>1.025899</td>\n",
       "      <td>2.982657</td>\n",
       "      <td>1.136085</td>\n",
       "      <td>1.216771e+09</td>\n",
       "      <td>1.152388</td>\n",
       "      <td>3.425483</td>\n",
       "      <td>2.709377e+07</td>\n",
       "      <td>39.713840</td>\n",
       "      <td>0.005781</td>\n",
       "      <td>15.138051</td>\n",
       "      <td>1.000000</td>\n",
       "      <td>4.899988</td>\n",
       "      <td>112.890276</td>\n",
       "      <td>0.0</td>\n",
       "      <td>4.597063</td>\n",
       "    </tr>\n",
       "  </tbody>\n",
       "</table>\n",
       "</div>"
      ],
      "text/plain": [
       "         application_id        user_id    gender  yearly_income  income_type  \\\n",
       "cluster                                                                        \n",
       "0          1.097457e+06  481017.619974  0.681839   3.544231e+07     0.919143   \n",
       "1          1.147709e+06  738476.201860  0.873488   3.172419e+08     1.231628   \n",
       "2          1.008058e+06  739940.790687  0.862950   1.279637e+08     1.018533   \n",
       "3          1.064354e+06  383410.822364  0.921444   4.871734e+09     0.609342   \n",
       "4          1.140180e+06  597786.453463  0.726442   2.286299e+07     1.025899   \n",
       "\n",
       "         employment_type  houseown_type  desired_amount   purpose  \\\n",
       "cluster                                                             \n",
       "0               2.178486       0.836999    2.076961e+07  0.412221   \n",
       "1               2.935814       0.855814    9.746977e+09  2.359070   \n",
       "2               2.962155       0.930385    3.268325e+09  0.995484   \n",
       "3               1.828025       0.334041    5.426752e+08  0.617127   \n",
       "4               2.982657       1.136085    1.216771e+09  1.152388   \n",
       "\n",
       "         existing_loan_cnt  existing_loan_amt        age  \\\n",
       "cluster                                                    \n",
       "0                 4.744937       5.998811e+07  43.816613   \n",
       "1                 2.393488       2.257730e+08  34.404651   \n",
       "2                 2.644915       3.114344e+07  36.430151   \n",
       "3                10.732484       2.884643e+07  50.974522   \n",
       "4                 3.425483       2.709377e+07  39.713840   \n",
       "\n",
       "         continuous_service_month  insert_hour        pr  credit_rate  \\\n",
       "cluster                                                                 \n",
       "0                       13.227133     9.724320  1.009062     5.258400   \n",
       "1                        1.797209    11.851163  1.000000     4.313488   \n",
       "2                        0.118829    12.480455  1.000000     5.332970   \n",
       "3                        5.859873    11.438783  1.000000     4.520170   \n",
       "4                        0.005781    15.138051  1.000000     4.899988   \n",
       "\n",
       "         product_id  is_applied     event  \n",
       "cluster                                    \n",
       "0        124.614910         0.0  4.476094  \n",
       "1        136.486512         0.0  4.363721  \n",
       "2        124.393552         0.0  4.503193  \n",
       "3        137.546355         0.0  4.927813  \n",
       "4        112.890276         0.0  4.597063  "
      ]
     },
     "execution_count": 25,
     "metadata": {},
     "output_type": "execute_result"
    }
   ],
   "source": [
    "all_mean = all_0.groupby(by='cluster').mean()\n",
    "all_mean"
   ]
  },
  {
   "cell_type": "code",
   "execution_count": 7,
   "metadata": {
    "id": "nDUyVuj94Q5S"
   },
   "outputs": [
    {
     "name": "stdout",
     "output_type": "stream",
     "text": [
      "Silhouette Coefficient: 0.916\n"
     ]
    }
   ],
   "source": [
    "# 모델 평가\n",
    "\n",
    "# CLustering 알고리즘의 성능 평가 측도\n",
    "from sklearn.metrics import silhouette_score, calinski_harabasz_score\n",
    "\n",
    "print('Silhouette Coefficient: %.3f' % silhouette_score(all_0, model.labels_, sample_size=1000))"
   ]
  },
  {
   "cell_type": "markdown",
   "metadata": {},
   "source": [
    "실루엣 계수가 가질 수 있는 값은 -1~1이며, 1에 가까울수록 군집화가 잘 되었음을 의미한다.\n",
    "> 실루엣 계수가 0.916이므로 군집화가 잘 되었다고 할 수 있다."
   ]
  },
  {
   "cell_type": "code",
   "execution_count": 33,
   "metadata": {},
   "outputs": [
    {
     "name": "stdout",
     "output_type": "stream",
     "text": [
      "cluster : 0\n"
     ]
    },
    {
     "data": {
      "text/plain": [
       "1     747891\n",
       "6     740404\n",
       "2     690171\n",
       "10    597994\n",
       "4     572572\n",
       "3     450882\n",
       "5     309521\n",
       "7     264867\n",
       "0       3467\n",
       "8         28\n",
       "Name: event, dtype: int64"
      ]
     },
     "metadata": {},
     "output_type": "display_data"
    },
    {
     "name": "stdout",
     "output_type": "stream",
     "text": [
      "cluster : 1\n"
     ]
    },
    {
     "data": {
      "text/plain": [
       "3     178\n",
       "4     161\n",
       "6     150\n",
       "2     147\n",
       "1     141\n",
       "10    128\n",
       "5     118\n",
       "7      44\n",
       "0       8\n",
       "Name: event, dtype: int64"
      ]
     },
     "metadata": {},
     "output_type": "display_data"
    },
    {
     "name": "stdout",
     "output_type": "stream",
     "text": [
      "cluster : 2\n"
     ]
    },
    {
     "data": {
      "text/plain": [
       "1     1113\n",
       "2     1013\n",
       "10    1005\n",
       "6      836\n",
       "3      766\n",
       "4      738\n",
       "5      595\n",
       "7      355\n",
       "Name: event, dtype: int64"
      ]
     },
     "metadata": {},
     "output_type": "display_data"
    },
    {
     "name": "stdout",
     "output_type": "stream",
     "text": [
      "cluster : 3\n"
     ]
    },
    {
     "data": {
      "text/plain": [
       "10    284\n",
       "6     238\n",
       "1     219\n",
       "2     198\n",
       "4     182\n",
       "3     123\n",
       "5     100\n",
       "7      69\n",
       "Name: event, dtype: int64"
      ]
     },
     "metadata": {},
     "output_type": "display_data"
    },
    {
     "name": "stdout",
     "output_type": "stream",
     "text": [
      "cluster : 4\n"
     ]
    },
    {
     "data": {
      "text/plain": [
       "6     1392\n",
       "1     1367\n",
       "2     1218\n",
       "10    1204\n",
       "4     1062\n",
       "3      985\n",
       "5      775\n",
       "7      641\n",
       "0        5\n",
       "Name: event, dtype: int64"
      ]
     },
     "metadata": {},
     "output_type": "display_data"
    }
   ],
   "source": [
    "for i in range(5) :\n",
    "    print('cluster :',i)\n",
    "    display(all_0[all_0['cluster']==i]['event'].value_counts())"
   ]
  },
  {
   "cell_type": "markdown",
   "metadata": {},
   "source": [
    "## all_1"
   ]
  },
  {
   "cell_type": "code",
   "execution_count": null,
   "metadata": {},
   "outputs": [],
   "source": [
    "import pandas as pd\n",
    "import numpy as np\n",
    "import matplotlib.pyplot as plt\n",
    "\n",
    "from sklearn.cluster import KMeans"
   ]
  },
  {
   "cell_type": "code",
   "execution_count": 8,
   "metadata": {},
   "outputs": [],
   "source": [
    "all_1 = pd.read_csv('all_1.csv')"
   ]
  },
  {
   "cell_type": "code",
   "execution_count": 9,
   "metadata": {
    "id": "PoOZ90C24Q7Y"
   },
   "outputs": [
    {
     "data": {
      "image/png": "[encoded data removed]",
      "text/plain": [
       "<Figure size 432x288 with 1 Axes>"
      ]
     },
     "metadata": {
      "needs_background": "light"
     },
     "output_type": "display_data"
    }
   ],
   "source": [
    "# Elbow \n",
    "\n",
    "Objectives = []\n",
    "K = range(2,11)\n",
    "for k in K:\n",
    "    km = KMeans(n_clusters=k)\n",
    "    km = km.fit(all_1)\n",
    "    Objectives.append(km.inertia_)\n",
    "\n",
    "plt.plot(K, Objectives, 'bx-')\n",
    "plt.xlabel('k')\n",
    "plt.ylabel('Objectives')\n",
    "plt.xlabel('number of clusters')\n",
    "plt.show() "
   ]
  },
  {
   "cell_type": "markdown",
   "metadata": {},
   "source": [
    "군집의 수 결정 방법: elbow method  \n",
    "- 군집의 개수와 군집내 변동의 합을 그래프로 나타내고, 변동량의 변화가 작아지는 지점의 군집의 수를 적정 군집의 수로 결정함  \n",
    "\n",
    "> Elbow Method를 이용하여 최적의 군집의 수는 5 또는 7로 추정할 수 있음  \n",
    "> 두 가지 경우를 모두 진행하여 비교한다."
   ]
  },
  {
   "cell_type": "code",
   "execution_count": 10,
   "metadata": {},
   "outputs": [
    {
     "data": {
      "text/plain": [
       "array([0, 0, 0, ..., 4, 4, 4])"
      ]
     },
     "execution_count": 10,
     "metadata": {},
     "output_type": "execute_result"
    }
   ],
   "source": [
    "model1 = KMeans(\n",
    "    n_clusters=7,\n",
    "    init=\"k-means++\",\n",
    "    max_iter=100,\n",
    "    n_init=1\n",
    ")\n",
    "model1.fit(all_1) # k-means alogorithm 적합\n",
    "model1.labels_ "
   ]
  },
  {
   "cell_type": "code",
   "execution_count": 11,
   "metadata": {
    "scrolled": true
   },
   "outputs": [
    {
     "data": {
      "text/html": [
       "<div>\n",
       "<style scoped>\n",
       "    .dataframe tbody tr th:only-of-type {\n",
       "        vertical-align: middle;\n",
       "    }\n",
       "\n",
       "    .dataframe tbody tr th {\n",
       "        vertical-align: top;\n",
       "    }\n",
       "\n",
       "    .dataframe thead th {\n",
       "        text-align: right;\n",
       "    }\n",
       "</style>\n",
       "<table border=\"1\" class=\"dataframe\">\n",
       "  <thead>\n",
       "    <tr style=\"text-align: right;\">\n",
       "      <th></th>\n",
       "      <th>application_id</th>\n",
       "      <th>user_id</th>\n",
       "      <th>gender</th>\n",
       "      <th>yearly_income</th>\n",
       "      <th>income_type</th>\n",
       "      <th>employment_type</th>\n",
       "      <th>houseown_type</th>\n",
       "      <th>desired_amount</th>\n",
       "      <th>purpose</th>\n",
       "      <th>existing_loan_cnt</th>\n",
       "      <th>existing_loan_amt</th>\n",
       "      <th>age</th>\n",
       "      <th>continuous_service_month</th>\n",
       "      <th>insert_hour</th>\n",
       "      <th>pr</th>\n",
       "      <th>credit_rate</th>\n",
       "      <th>product_id</th>\n",
       "      <th>is_applied</th>\n",
       "      <th>event</th>\n",
       "      <th>cluster</th>\n",
       "    </tr>\n",
       "  </thead>\n",
       "  <tbody>\n",
       "    <tr>\n",
       "      <th>0</th>\n",
       "      <td>954900</td>\n",
       "      <td>553686</td>\n",
       "      <td>1.0</td>\n",
       "      <td>30000000.0</td>\n",
       "      <td>2</td>\n",
       "      <td>0</td>\n",
       "      <td>1</td>\n",
       "      <td>30000000.0</td>\n",
       "      <td>1</td>\n",
       "      <td>1.0</td>\n",
       "      <td>27000000.0</td>\n",
       "      <td>54.0</td>\n",
       "      <td>184.0</td>\n",
       "      <td>14</td>\n",
       "      <td>1</td>\n",
       "      <td>3.0</td>\n",
       "      <td>20</td>\n",
       "      <td>1.0</td>\n",
       "      <td>1</td>\n",
       "      <td>0</td>\n",
       "    </tr>\n",
       "    <tr>\n",
       "      <th>1</th>\n",
       "      <td>954900</td>\n",
       "      <td>553686</td>\n",
       "      <td>1.0</td>\n",
       "      <td>30000000.0</td>\n",
       "      <td>2</td>\n",
       "      <td>0</td>\n",
       "      <td>1</td>\n",
       "      <td>30000000.0</td>\n",
       "      <td>1</td>\n",
       "      <td>1.0</td>\n",
       "      <td>27000000.0</td>\n",
       "      <td>54.0</td>\n",
       "      <td>184.0</td>\n",
       "      <td>14</td>\n",
       "      <td>1</td>\n",
       "      <td>3.0</td>\n",
       "      <td>20</td>\n",
       "      <td>1.0</td>\n",
       "      <td>2</td>\n",
       "      <td>0</td>\n",
       "    </tr>\n",
       "    <tr>\n",
       "      <th>2</th>\n",
       "      <td>954900</td>\n",
       "      <td>553686</td>\n",
       "      <td>1.0</td>\n",
       "      <td>30000000.0</td>\n",
       "      <td>2</td>\n",
       "      <td>0</td>\n",
       "      <td>1</td>\n",
       "      <td>30000000.0</td>\n",
       "      <td>1</td>\n",
       "      <td>1.0</td>\n",
       "      <td>27000000.0</td>\n",
       "      <td>54.0</td>\n",
       "      <td>184.0</td>\n",
       "      <td>14</td>\n",
       "      <td>1</td>\n",
       "      <td>3.0</td>\n",
       "      <td>20</td>\n",
       "      <td>1.0</td>\n",
       "      <td>4</td>\n",
       "      <td>0</td>\n",
       "    </tr>\n",
       "    <tr>\n",
       "      <th>3</th>\n",
       "      <td>954900</td>\n",
       "      <td>553686</td>\n",
       "      <td>1.0</td>\n",
       "      <td>30000000.0</td>\n",
       "      <td>2</td>\n",
       "      <td>0</td>\n",
       "      <td>1</td>\n",
       "      <td>30000000.0</td>\n",
       "      <td>1</td>\n",
       "      <td>1.0</td>\n",
       "      <td>27000000.0</td>\n",
       "      <td>54.0</td>\n",
       "      <td>184.0</td>\n",
       "      <td>14</td>\n",
       "      <td>1</td>\n",
       "      <td>3.0</td>\n",
       "      <td>20</td>\n",
       "      <td>1.0</td>\n",
       "      <td>3</td>\n",
       "      <td>0</td>\n",
       "    </tr>\n",
       "    <tr>\n",
       "      <th>4</th>\n",
       "      <td>954900</td>\n",
       "      <td>553686</td>\n",
       "      <td>1.0</td>\n",
       "      <td>30000000.0</td>\n",
       "      <td>2</td>\n",
       "      <td>0</td>\n",
       "      <td>1</td>\n",
       "      <td>30000000.0</td>\n",
       "      <td>1</td>\n",
       "      <td>1.0</td>\n",
       "      <td>27000000.0</td>\n",
       "      <td>54.0</td>\n",
       "      <td>184.0</td>\n",
       "      <td>14</td>\n",
       "      <td>1</td>\n",
       "      <td>3.0</td>\n",
       "      <td>20</td>\n",
       "      <td>1.0</td>\n",
       "      <td>5</td>\n",
       "      <td>0</td>\n",
       "    </tr>\n",
       "  </tbody>\n",
       "</table>\n",
       "</div>"
      ],
      "text/plain": [
       "   application_id  user_id  gender  yearly_income  income_type  \\\n",
       "0          954900   553686     1.0     30000000.0            2   \n",
       "1          954900   553686     1.0     30000000.0            2   \n",
       "2          954900   553686     1.0     30000000.0            2   \n",
       "3          954900   553686     1.0     30000000.0            2   \n",
       "4          954900   553686     1.0     30000000.0            2   \n",
       "\n",
       "   employment_type  houseown_type  desired_amount  purpose  existing_loan_cnt  \\\n",
       "0                0              1      30000000.0        1                1.0   \n",
       "1                0              1      30000000.0        1                1.0   \n",
       "2                0              1      30000000.0        1                1.0   \n",
       "3                0              1      30000000.0        1                1.0   \n",
       "4                0              1      30000000.0        1                1.0   \n",
       "\n",
       "   existing_loan_amt   age  continuous_service_month  insert_hour  pr  \\\n",
       "0         27000000.0  54.0                     184.0           14   1   \n",
       "1         27000000.0  54.0                     184.0           14   1   \n",
       "2         27000000.0  54.0                     184.0           14   1   \n",
       "3         27000000.0  54.0                     184.0           14   1   \n",
       "4         27000000.0  54.0                     184.0           14   1   \n",
       "\n",
       "   credit_rate  product_id  is_applied  event  cluster  \n",
       "0          3.0          20         1.0      1        0  \n",
       "1          3.0          20         1.0      2        0  \n",
       "2          3.0          20         1.0      4        0  \n",
       "3          3.0          20         1.0      3        0  \n",
       "4          3.0          20         1.0      5        0  "
      ]
     },
     "execution_count": 11,
     "metadata": {},
     "output_type": "execute_result"
    }
   ],
   "source": [
    "all_1['cluster'] = model1.labels_ \n",
    "all_1.head()"
   ]
  },
  {
   "cell_type": "code",
   "execution_count": 12,
   "metadata": {},
   "outputs": [
    {
     "data": {
      "text/html": [
       "<div>\n",
       "<style scoped>\n",
       "    .dataframe tbody tr th:only-of-type {\n",
       "        vertical-align: middle;\n",
       "    }\n",
       "\n",
       "    .dataframe tbody tr th {\n",
       "        vertical-align: top;\n",
       "    }\n",
       "\n",
       "    .dataframe thead th {\n",
       "        text-align: right;\n",
       "    }\n",
       "</style>\n",
       "<table border=\"1\" class=\"dataframe\">\n",
       "  <thead>\n",
       "    <tr style=\"text-align: right;\">\n",
       "      <th></th>\n",
       "      <th>application_id</th>\n",
       "      <th>user_id</th>\n",
       "      <th>gender</th>\n",
       "      <th>yearly_income</th>\n",
       "      <th>income_type</th>\n",
       "      <th>employment_type</th>\n",
       "      <th>houseown_type</th>\n",
       "      <th>desired_amount</th>\n",
       "      <th>purpose</th>\n",
       "      <th>existing_loan_cnt</th>\n",
       "      <th>existing_loan_amt</th>\n",
       "      <th>age</th>\n",
       "      <th>continuous_service_month</th>\n",
       "      <th>insert_hour</th>\n",
       "      <th>pr</th>\n",
       "      <th>credit_rate</th>\n",
       "      <th>product_id</th>\n",
       "      <th>is_applied</th>\n",
       "      <th>event</th>\n",
       "    </tr>\n",
       "    <tr>\n",
       "      <th>cluster</th>\n",
       "      <th></th>\n",
       "      <th></th>\n",
       "      <th></th>\n",
       "      <th></th>\n",
       "      <th></th>\n",
       "      <th></th>\n",
       "      <th></th>\n",
       "      <th></th>\n",
       "      <th></th>\n",
       "      <th></th>\n",
       "      <th></th>\n",
       "      <th></th>\n",
       "      <th></th>\n",
       "      <th></th>\n",
       "      <th></th>\n",
       "      <th></th>\n",
       "      <th></th>\n",
       "      <th></th>\n",
       "      <th></th>\n",
       "    </tr>\n",
       "  </thead>\n",
       "  <tbody>\n",
       "    <tr>\n",
       "      <th>0</th>\n",
       "      <td>1.084191e+06</td>\n",
       "      <td>441026.842839</td>\n",
       "      <td>0.675010</td>\n",
       "      <td>3.798874e+07</td>\n",
       "      <td>0.389033</td>\n",
       "      <td>0.292395</td>\n",
       "      <td>0.793484</td>\n",
       "      <td>2.770495e+07</td>\n",
       "      <td>0.682978</td>\n",
       "      <td>3.652515</td>\n",
       "      <td>4.344098e+07</td>\n",
       "      <td>41.046870</td>\n",
       "      <td>41.611742</td>\n",
       "      <td>12.843782</td>\n",
       "      <td>1.006391</td>\n",
       "      <td>5.155996</td>\n",
       "      <td>147.398660</td>\n",
       "      <td>1.0</td>\n",
       "      <td>4.477584</td>\n",
       "    </tr>\n",
       "    <tr>\n",
       "      <th>1</th>\n",
       "      <td>8.803094e+05</td>\n",
       "      <td>492276.086121</td>\n",
       "      <td>0.854193</td>\n",
       "      <td>1.292992e+08</td>\n",
       "      <td>0.580987</td>\n",
       "      <td>0.143004</td>\n",
       "      <td>0.771390</td>\n",
       "      <td>4.595141e+09</td>\n",
       "      <td>1.161457</td>\n",
       "      <td>3.617287</td>\n",
       "      <td>1.410695e+08</td>\n",
       "      <td>40.276996</td>\n",
       "      <td>61.605785</td>\n",
       "      <td>12.357242</td>\n",
       "      <td>1.014439</td>\n",
       "      <td>4.635762</td>\n",
       "      <td>143.134978</td>\n",
       "      <td>1.0</td>\n",
       "      <td>4.741323</td>\n",
       "    </tr>\n",
       "    <tr>\n",
       "      <th>2</th>\n",
       "      <td>7.154373e+05</td>\n",
       "      <td>521340.628192</td>\n",
       "      <td>0.991439</td>\n",
       "      <td>9.462135e+09</td>\n",
       "      <td>0.043247</td>\n",
       "      <td>0.506273</td>\n",
       "      <td>1.522657</td>\n",
       "      <td>7.680148e+07</td>\n",
       "      <td>3.090627</td>\n",
       "      <td>5.552325</td>\n",
       "      <td>7.417387e+07</td>\n",
       "      <td>37.608266</td>\n",
       "      <td>117.799262</td>\n",
       "      <td>15.506716</td>\n",
       "      <td>1.000000</td>\n",
       "      <td>5.483395</td>\n",
       "      <td>150.815646</td>\n",
       "      <td>1.0</td>\n",
       "      <td>4.420664</td>\n",
       "    </tr>\n",
       "    <tr>\n",
       "      <th>3</th>\n",
       "      <td>1.072581e+06</td>\n",
       "      <td>469088.335753</td>\n",
       "      <td>0.867707</td>\n",
       "      <td>8.705309e+07</td>\n",
       "      <td>0.396272</td>\n",
       "      <td>0.119120</td>\n",
       "      <td>1.329821</td>\n",
       "      <td>6.560677e+07</td>\n",
       "      <td>0.742004</td>\n",
       "      <td>6.180656</td>\n",
       "      <td>4.046012e+08</td>\n",
       "      <td>43.264396</td>\n",
       "      <td>118.642423</td>\n",
       "      <td>12.857121</td>\n",
       "      <td>1.000128</td>\n",
       "      <td>4.230571</td>\n",
       "      <td>149.673548</td>\n",
       "      <td>1.0</td>\n",
       "      <td>4.508469</td>\n",
       "    </tr>\n",
       "    <tr>\n",
       "      <th>4</th>\n",
       "      <td>1.085703e+06</td>\n",
       "      <td>435713.657669</td>\n",
       "      <td>0.813276</td>\n",
       "      <td>5.839040e+07</td>\n",
       "      <td>0.239936</td>\n",
       "      <td>0.136023</td>\n",
       "      <td>1.202500</td>\n",
       "      <td>5.742526e+07</td>\n",
       "      <td>0.762604</td>\n",
       "      <td>5.734013</td>\n",
       "      <td>1.554481e+08</td>\n",
       "      <td>42.608299</td>\n",
       "      <td>83.508524</td>\n",
       "      <td>12.780952</td>\n",
       "      <td>1.003105</td>\n",
       "      <td>4.668182</td>\n",
       "      <td>150.683656</td>\n",
       "      <td>1.0</td>\n",
       "      <td>4.480752</td>\n",
       "    </tr>\n",
       "    <tr>\n",
       "      <th>5</th>\n",
       "      <td>1.262958e+06</td>\n",
       "      <td>557950.328230</td>\n",
       "      <td>0.902671</td>\n",
       "      <td>4.941294e+08</td>\n",
       "      <td>0.021502</td>\n",
       "      <td>0.423736</td>\n",
       "      <td>0.657904</td>\n",
       "      <td>9.862708e+09</td>\n",
       "      <td>0.482126</td>\n",
       "      <td>2.905634</td>\n",
       "      <td>3.920587e+07</td>\n",
       "      <td>36.703681</td>\n",
       "      <td>33.218402</td>\n",
       "      <td>12.355279</td>\n",
       "      <td>1.047297</td>\n",
       "      <td>5.509288</td>\n",
       "      <td>144.789956</td>\n",
       "      <td>1.0</td>\n",
       "      <td>4.493257</td>\n",
       "    </tr>\n",
       "    <tr>\n",
       "      <th>6</th>\n",
       "      <td>9.181245e+05</td>\n",
       "      <td>394473.396819</td>\n",
       "      <td>0.844286</td>\n",
       "      <td>1.338979e+09</td>\n",
       "      <td>0.299694</td>\n",
       "      <td>0.674676</td>\n",
       "      <td>1.664188</td>\n",
       "      <td>1.734729e+08</td>\n",
       "      <td>0.495525</td>\n",
       "      <td>2.960712</td>\n",
       "      <td>2.061953e+08</td>\n",
       "      <td>44.014344</td>\n",
       "      <td>56.627229</td>\n",
       "      <td>12.961926</td>\n",
       "      <td>1.000872</td>\n",
       "      <td>5.912318</td>\n",
       "      <td>156.767048</td>\n",
       "      <td>1.0</td>\n",
       "      <td>4.066487</td>\n",
       "    </tr>\n",
       "  </tbody>\n",
       "</table>\n",
       "</div>"
      ],
      "text/plain": [
       "         application_id        user_id    gender  yearly_income  income_type  \\\n",
       "cluster                                                                        \n",
       "0          1.084191e+06  441026.842839  0.675010   3.798874e+07     0.389033   \n",
       "1          8.803094e+05  492276.086121  0.854193   1.292992e+08     0.580987   \n",
       "2          7.154373e+05  521340.628192  0.991439   9.462135e+09     0.043247   \n",
       "3          1.072581e+06  469088.335753  0.867707   8.705309e+07     0.396272   \n",
       "4          1.085703e+06  435713.657669  0.813276   5.839040e+07     0.239936   \n",
       "5          1.262958e+06  557950.328230  0.902671   4.941294e+08     0.021502   \n",
       "6          9.181245e+05  394473.396819  0.844286   1.338979e+09     0.299694   \n",
       "\n",
       "         employment_type  houseown_type  desired_amount   purpose  \\\n",
       "cluster                                                             \n",
       "0               0.292395       0.793484    2.770495e+07  0.682978   \n",
       "1               0.143004       0.771390    4.595141e+09  1.161457   \n",
       "2               0.506273       1.522657    7.680148e+07  3.090627   \n",
       "3               0.119120       1.329821    6.560677e+07  0.742004   \n",
       "4               0.136023       1.202500    5.742526e+07  0.762604   \n",
       "5               0.423736       0.657904    9.862708e+09  0.482126   \n",
       "6               0.674676       1.664188    1.734729e+08  0.495525   \n",
       "\n",
       "         existing_loan_cnt  existing_loan_amt        age  \\\n",
       "cluster                                                    \n",
       "0                 3.652515       4.344098e+07  41.046870   \n",
       "1                 3.617287       1.410695e+08  40.276996   \n",
       "2                 5.552325       7.417387e+07  37.608266   \n",
       "3                 6.180656       4.046012e+08  43.264396   \n",
       "4                 5.734013       1.554481e+08  42.608299   \n",
       "5                 2.905634       3.920587e+07  36.703681   \n",
       "6                 2.960712       2.061953e+08  44.014344   \n",
       "\n",
       "         continuous_service_month  insert_hour        pr  credit_rate  \\\n",
       "cluster                                                                 \n",
       "0                       41.611742    12.843782  1.006391     5.155996   \n",
       "1                       61.605785    12.357242  1.014439     4.635762   \n",
       "2                      117.799262    15.506716  1.000000     5.483395   \n",
       "3                      118.642423    12.857121  1.000128     4.230571   \n",
       "4                       83.508524    12.780952  1.003105     4.668182   \n",
       "5                       33.218402    12.355279  1.047297     5.509288   \n",
       "6                       56.627229    12.961926  1.000872     5.912318   \n",
       "\n",
       "         product_id  is_applied     event  \n",
       "cluster                                    \n",
       "0        147.398660         1.0  4.477584  \n",
       "1        143.134978         1.0  4.741323  \n",
       "2        150.815646         1.0  4.420664  \n",
       "3        149.673548         1.0  4.508469  \n",
       "4        150.683656         1.0  4.480752  \n",
       "5        144.789956         1.0  4.493257  \n",
       "6        156.767048         1.0  4.066487  "
      ]
     },
     "execution_count": 12,
     "metadata": {},
     "output_type": "execute_result"
    }
   ],
   "source": [
    "all_1.groupby(by='cluster').mean()"
   ]
  },
  {
   "cell_type": "code",
   "execution_count": 13,
   "metadata": {
    "id": "nDUyVuj94Q5S"
   },
   "outputs": [
    {
     "name": "stdout",
     "output_type": "stream",
     "text": [
      "Silhouette Coefficient: 0.545\n"
     ]
    }
   ],
   "source": [
    "# 모델 평가\n",
    "\n",
    "# CLustering 알고리즘의 성능 평가 측도\n",
    "from sklearn.metrics import silhouette_score, calinski_harabasz_score\n",
    "\n",
    "print('Silhouette Coefficient: %.3f' % silhouette_score(all_1, model1.labels_, sample_size=1000))"
   ]
  },
  {
   "cell_type": "markdown",
   "metadata": {},
   "source": [
    "실루엣 계수가 가질 수 있는 값은 -1~1이며, 1에 가까울수록 군집화가 잘 되었음을 의미한다.\n",
    "> 실루엣 계수가 0.545이므로 군집화가 잘 되었다고 보기에는 애매하다."
   ]
  },
  {
   "cell_type": "code",
   "execution_count": 14,
   "metadata": {},
   "outputs": [
    {
     "data": {
      "text/plain": [
       "array([1, 1, 1, ..., 1, 1, 1])"
      ]
     },
     "execution_count": 14,
     "metadata": {},
     "output_type": "execute_result"
    }
   ],
   "source": [
    "model2 = KMeans(\n",
    "    n_clusters=5,\n",
    "    init=\"k-means++\",\n",
    "    max_iter=100,\n",
    "    n_init=1\n",
    ")\n",
    "model2.fit(all_1) # k-means alogorithm 적합\n",
    "model2.labels_ "
   ]
  },
  {
   "cell_type": "code",
   "execution_count": 15,
   "metadata": {},
   "outputs": [
    {
     "data": {
      "text/html": [
       "<div>\n",
       "<style scoped>\n",
       "    .dataframe tbody tr th:only-of-type {\n",
       "        vertical-align: middle;\n",
       "    }\n",
       "\n",
       "    .dataframe tbody tr th {\n",
       "        vertical-align: top;\n",
       "    }\n",
       "\n",
       "    .dataframe thead th {\n",
       "        text-align: right;\n",
       "    }\n",
       "</style>\n",
       "<table border=\"1\" class=\"dataframe\">\n",
       "  <thead>\n",
       "    <tr style=\"text-align: right;\">\n",
       "      <th></th>\n",
       "      <th>application_id</th>\n",
       "      <th>user_id</th>\n",
       "      <th>gender</th>\n",
       "      <th>yearly_income</th>\n",
       "      <th>income_type</th>\n",
       "      <th>employment_type</th>\n",
       "      <th>houseown_type</th>\n",
       "      <th>desired_amount</th>\n",
       "      <th>purpose</th>\n",
       "      <th>existing_loan_cnt</th>\n",
       "      <th>existing_loan_amt</th>\n",
       "      <th>age</th>\n",
       "      <th>continuous_service_month</th>\n",
       "      <th>insert_hour</th>\n",
       "      <th>pr</th>\n",
       "      <th>credit_rate</th>\n",
       "      <th>product_id</th>\n",
       "      <th>is_applied</th>\n",
       "      <th>event</th>\n",
       "      <th>cluster</th>\n",
       "    </tr>\n",
       "  </thead>\n",
       "  <tbody>\n",
       "    <tr>\n",
       "      <th>0</th>\n",
       "      <td>954900</td>\n",
       "      <td>553686</td>\n",
       "      <td>1.0</td>\n",
       "      <td>30000000.0</td>\n",
       "      <td>2</td>\n",
       "      <td>0</td>\n",
       "      <td>1</td>\n",
       "      <td>30000000.0</td>\n",
       "      <td>1</td>\n",
       "      <td>1.0</td>\n",
       "      <td>27000000.0</td>\n",
       "      <td>54.0</td>\n",
       "      <td>184.0</td>\n",
       "      <td>14</td>\n",
       "      <td>1</td>\n",
       "      <td>3.0</td>\n",
       "      <td>20</td>\n",
       "      <td>1.0</td>\n",
       "      <td>1</td>\n",
       "      <td>1</td>\n",
       "    </tr>\n",
       "    <tr>\n",
       "      <th>1</th>\n",
       "      <td>954900</td>\n",
       "      <td>553686</td>\n",
       "      <td>1.0</td>\n",
       "      <td>30000000.0</td>\n",
       "      <td>2</td>\n",
       "      <td>0</td>\n",
       "      <td>1</td>\n",
       "      <td>30000000.0</td>\n",
       "      <td>1</td>\n",
       "      <td>1.0</td>\n",
       "      <td>27000000.0</td>\n",
       "      <td>54.0</td>\n",
       "      <td>184.0</td>\n",
       "      <td>14</td>\n",
       "      <td>1</td>\n",
       "      <td>3.0</td>\n",
       "      <td>20</td>\n",
       "      <td>1.0</td>\n",
       "      <td>2</td>\n",
       "      <td>1</td>\n",
       "    </tr>\n",
       "    <tr>\n",
       "      <th>2</th>\n",
       "      <td>954900</td>\n",
       "      <td>553686</td>\n",
       "      <td>1.0</td>\n",
       "      <td>30000000.0</td>\n",
       "      <td>2</td>\n",
       "      <td>0</td>\n",
       "      <td>1</td>\n",
       "      <td>30000000.0</td>\n",
       "      <td>1</td>\n",
       "      <td>1.0</td>\n",
       "      <td>27000000.0</td>\n",
       "      <td>54.0</td>\n",
       "      <td>184.0</td>\n",
       "      <td>14</td>\n",
       "      <td>1</td>\n",
       "      <td>3.0</td>\n",
       "      <td>20</td>\n",
       "      <td>1.0</td>\n",
       "      <td>4</td>\n",
       "      <td>1</td>\n",
       "    </tr>\n",
       "    <tr>\n",
       "      <th>3</th>\n",
       "      <td>954900</td>\n",
       "      <td>553686</td>\n",
       "      <td>1.0</td>\n",
       "      <td>30000000.0</td>\n",
       "      <td>2</td>\n",
       "      <td>0</td>\n",
       "      <td>1</td>\n",
       "      <td>30000000.0</td>\n",
       "      <td>1</td>\n",
       "      <td>1.0</td>\n",
       "      <td>27000000.0</td>\n",
       "      <td>54.0</td>\n",
       "      <td>184.0</td>\n",
       "      <td>14</td>\n",
       "      <td>1</td>\n",
       "      <td>3.0</td>\n",
       "      <td>20</td>\n",
       "      <td>1.0</td>\n",
       "      <td>3</td>\n",
       "      <td>1</td>\n",
       "    </tr>\n",
       "    <tr>\n",
       "      <th>4</th>\n",
       "      <td>954900</td>\n",
       "      <td>553686</td>\n",
       "      <td>1.0</td>\n",
       "      <td>30000000.0</td>\n",
       "      <td>2</td>\n",
       "      <td>0</td>\n",
       "      <td>1</td>\n",
       "      <td>30000000.0</td>\n",
       "      <td>1</td>\n",
       "      <td>1.0</td>\n",
       "      <td>27000000.0</td>\n",
       "      <td>54.0</td>\n",
       "      <td>184.0</td>\n",
       "      <td>14</td>\n",
       "      <td>1</td>\n",
       "      <td>3.0</td>\n",
       "      <td>20</td>\n",
       "      <td>1.0</td>\n",
       "      <td>5</td>\n",
       "      <td>1</td>\n",
       "    </tr>\n",
       "  </tbody>\n",
       "</table>\n",
       "</div>"
      ],
      "text/plain": [
       "   application_id  user_id  gender  yearly_income  income_type  \\\n",
       "0          954900   553686     1.0     30000000.0            2   \n",
       "1          954900   553686     1.0     30000000.0            2   \n",
       "2          954900   553686     1.0     30000000.0            2   \n",
       "3          954900   553686     1.0     30000000.0            2   \n",
       "4          954900   553686     1.0     30000000.0            2   \n",
       "\n",
       "   employment_type  houseown_type  desired_amount  purpose  existing_loan_cnt  \\\n",
       "0                0              1      30000000.0        1                1.0   \n",
       "1                0              1      30000000.0        1                1.0   \n",
       "2                0              1      30000000.0        1                1.0   \n",
       "3                0              1      30000000.0        1                1.0   \n",
       "4                0              1      30000000.0        1                1.0   \n",
       "\n",
       "   existing_loan_amt   age  continuous_service_month  insert_hour  pr  \\\n",
       "0         27000000.0  54.0                     184.0           14   1   \n",
       "1         27000000.0  54.0                     184.0           14   1   \n",
       "2         27000000.0  54.0                     184.0           14   1   \n",
       "3         27000000.0  54.0                     184.0           14   1   \n",
       "4         27000000.0  54.0                     184.0           14   1   \n",
       "\n",
       "   credit_rate  product_id  is_applied  event  cluster  \n",
       "0          3.0          20         1.0      1        1  \n",
       "1          3.0          20         1.0      2        1  \n",
       "2          3.0          20         1.0      4        1  \n",
       "3          3.0          20         1.0      3        1  \n",
       "4          3.0          20         1.0      5        1  "
      ]
     },
     "execution_count": 15,
     "metadata": {},
     "output_type": "execute_result"
    }
   ],
   "source": [
    "all_1['cluster'] = model2.labels_ \n",
    "all_1.head()"
   ]
  },
  {
   "cell_type": "code",
   "execution_count": 34,
   "metadata": {},
   "outputs": [
    {
     "data": {
      "text/html": [
       "<div>\n",
       "<style scoped>\n",
       "    .dataframe tbody tr th:only-of-type {\n",
       "        vertical-align: middle;\n",
       "    }\n",
       "\n",
       "    .dataframe tbody tr th {\n",
       "        vertical-align: top;\n",
       "    }\n",
       "\n",
       "    .dataframe thead th {\n",
       "        text-align: right;\n",
       "    }\n",
       "</style>\n",
       "<table border=\"1\" class=\"dataframe\">\n",
       "  <thead>\n",
       "    <tr style=\"text-align: right;\">\n",
       "      <th></th>\n",
       "      <th>application_id</th>\n",
       "      <th>user_id</th>\n",
       "      <th>gender</th>\n",
       "      <th>yearly_income</th>\n",
       "      <th>income_type</th>\n",
       "      <th>employment_type</th>\n",
       "      <th>houseown_type</th>\n",
       "      <th>desired_amount</th>\n",
       "      <th>purpose</th>\n",
       "      <th>existing_loan_cnt</th>\n",
       "      <th>existing_loan_amt</th>\n",
       "      <th>age</th>\n",
       "      <th>continuous_service_month</th>\n",
       "      <th>insert_hour</th>\n",
       "      <th>pr</th>\n",
       "      <th>credit_rate</th>\n",
       "      <th>product_id</th>\n",
       "      <th>is_applied</th>\n",
       "      <th>event</th>\n",
       "    </tr>\n",
       "    <tr>\n",
       "      <th>cluster</th>\n",
       "      <th></th>\n",
       "      <th></th>\n",
       "      <th></th>\n",
       "      <th></th>\n",
       "      <th></th>\n",
       "      <th></th>\n",
       "      <th></th>\n",
       "      <th></th>\n",
       "      <th></th>\n",
       "      <th></th>\n",
       "      <th></th>\n",
       "      <th></th>\n",
       "      <th></th>\n",
       "      <th></th>\n",
       "      <th></th>\n",
       "      <th></th>\n",
       "      <th></th>\n",
       "      <th></th>\n",
       "      <th></th>\n",
       "    </tr>\n",
       "  </thead>\n",
       "  <tbody>\n",
       "    <tr>\n",
       "      <th>0</th>\n",
       "      <td>1.093542e+06</td>\n",
       "      <td>428000.171375</td>\n",
       "      <td>0.792410</td>\n",
       "      <td>5.565454e+07</td>\n",
       "      <td>0.235200</td>\n",
       "      <td>0.133373</td>\n",
       "      <td>1.153192</td>\n",
       "      <td>3.909931e+07</td>\n",
       "      <td>0.698865</td>\n",
       "      <td>5.793084</td>\n",
       "      <td>1.400972e+08</td>\n",
       "      <td>42.995436</td>\n",
       "      <td>80.098034</td>\n",
       "      <td>12.761821</td>\n",
       "      <td>1.002714</td>\n",
       "      <td>4.823196</td>\n",
       "      <td>151.427595</td>\n",
       "      <td>1.0</td>\n",
       "      <td>4.486474</td>\n",
       "    </tr>\n",
       "    <tr>\n",
       "      <th>1</th>\n",
       "      <td>8.850879e+05</td>\n",
       "      <td>493230.595217</td>\n",
       "      <td>0.866612</td>\n",
       "      <td>1.359345e+08</td>\n",
       "      <td>0.626605</td>\n",
       "      <td>0.137693</td>\n",
       "      <td>0.748386</td>\n",
       "      <td>4.757995e+09</td>\n",
       "      <td>0.865572</td>\n",
       "      <td>3.760815</td>\n",
       "      <td>1.501743e+08</td>\n",
       "      <td>40.032718</td>\n",
       "      <td>65.622397</td>\n",
       "      <td>12.323266</td>\n",
       "      <td>1.015573</td>\n",
       "      <td>4.750441</td>\n",
       "      <td>142.349358</td>\n",
       "      <td>1.0</td>\n",
       "      <td>4.692985</td>\n",
       "    </tr>\n",
       "    <tr>\n",
       "      <th>2</th>\n",
       "      <td>1.262958e+06</td>\n",
       "      <td>557950.328230</td>\n",
       "      <td>0.902671</td>\n",
       "      <td>4.941294e+08</td>\n",
       "      <td>0.021502</td>\n",
       "      <td>0.423736</td>\n",
       "      <td>0.657904</td>\n",
       "      <td>9.862708e+09</td>\n",
       "      <td>0.482126</td>\n",
       "      <td>2.905634</td>\n",
       "      <td>3.920587e+07</td>\n",
       "      <td>36.703681</td>\n",
       "      <td>33.218402</td>\n",
       "      <td>12.355279</td>\n",
       "      <td>1.047297</td>\n",
       "      <td>5.509288</td>\n",
       "      <td>144.789956</td>\n",
       "      <td>1.0</td>\n",
       "      <td>4.493257</td>\n",
       "    </tr>\n",
       "    <tr>\n",
       "      <th>3</th>\n",
       "      <td>7.154373e+05</td>\n",
       "      <td>521340.628192</td>\n",
       "      <td>0.991439</td>\n",
       "      <td>9.462135e+09</td>\n",
       "      <td>0.043247</td>\n",
       "      <td>0.506273</td>\n",
       "      <td>1.522657</td>\n",
       "      <td>7.680148e+07</td>\n",
       "      <td>3.090627</td>\n",
       "      <td>5.552325</td>\n",
       "      <td>7.417387e+07</td>\n",
       "      <td>37.608266</td>\n",
       "      <td>117.799262</td>\n",
       "      <td>15.506716</td>\n",
       "      <td>1.000000</td>\n",
       "      <td>5.483395</td>\n",
       "      <td>150.815646</td>\n",
       "      <td>1.0</td>\n",
       "      <td>4.420664</td>\n",
       "    </tr>\n",
       "    <tr>\n",
       "      <th>4</th>\n",
       "      <td>1.061515e+06</td>\n",
       "      <td>469715.510489</td>\n",
       "      <td>0.864615</td>\n",
       "      <td>8.383562e+07</td>\n",
       "      <td>0.365983</td>\n",
       "      <td>0.113523</td>\n",
       "      <td>1.390587</td>\n",
       "      <td>5.261330e+07</td>\n",
       "      <td>0.683076</td>\n",
       "      <td>6.105625</td>\n",
       "      <td>3.808876e+08</td>\n",
       "      <td>42.919372</td>\n",
       "      <td>116.980064</td>\n",
       "      <td>12.654286</td>\n",
       "      <td>1.000198</td>\n",
       "      <td>4.261022</td>\n",
       "      <td>149.412930</td>\n",
       "      <td>1.0</td>\n",
       "      <td>4.485157</td>\n",
       "    </tr>\n",
       "    <tr>\n",
       "      <th>5</th>\n",
       "      <td>9.519087e+05</td>\n",
       "      <td>459167.559415</td>\n",
       "      <td>0.753403</td>\n",
       "      <td>6.982934e+07</td>\n",
       "      <td>0.317205</td>\n",
       "      <td>0.230511</td>\n",
       "      <td>0.901003</td>\n",
       "      <td>7.740638e+08</td>\n",
       "      <td>1.418611</td>\n",
       "      <td>3.068370</td>\n",
       "      <td>1.328263e+08</td>\n",
       "      <td>40.343985</td>\n",
       "      <td>78.238792</td>\n",
       "      <td>12.894323</td>\n",
       "      <td>1.007135</td>\n",
       "      <td>4.182060</td>\n",
       "      <td>147.156370</td>\n",
       "      <td>1.0</td>\n",
       "      <td>4.579910</td>\n",
       "    </tr>\n",
       "    <tr>\n",
       "      <th>6</th>\n",
       "      <td>9.214342e+05</td>\n",
       "      <td>395057.463127</td>\n",
       "      <td>0.843619</td>\n",
       "      <td>1.341551e+09</td>\n",
       "      <td>0.292409</td>\n",
       "      <td>0.676122</td>\n",
       "      <td>1.662749</td>\n",
       "      <td>1.719362e+08</td>\n",
       "      <td>0.491693</td>\n",
       "      <td>2.961869</td>\n",
       "      <td>2.058499e+08</td>\n",
       "      <td>44.012635</td>\n",
       "      <td>56.572358</td>\n",
       "      <td>12.952812</td>\n",
       "      <td>1.000876</td>\n",
       "      <td>5.927773</td>\n",
       "      <td>156.846221</td>\n",
       "      <td>1.0</td>\n",
       "      <td>4.062106</td>\n",
       "    </tr>\n",
       "    <tr>\n",
       "      <th>7</th>\n",
       "      <td>1.083273e+06</td>\n",
       "      <td>443332.814739</td>\n",
       "      <td>0.672348</td>\n",
       "      <td>3.731939e+07</td>\n",
       "      <td>0.400634</td>\n",
       "      <td>0.303983</td>\n",
       "      <td>0.777633</td>\n",
       "      <td>2.826953e+07</td>\n",
       "      <td>0.699164</td>\n",
       "      <td>3.507139</td>\n",
       "      <td>3.970070e+07</td>\n",
       "      <td>40.844270</td>\n",
       "      <td>39.597994</td>\n",
       "      <td>12.867499</td>\n",
       "      <td>1.006749</td>\n",
       "      <td>5.144358</td>\n",
       "      <td>146.982722</td>\n",
       "      <td>1.0</td>\n",
       "      <td>4.476290</td>\n",
       "    </tr>\n",
       "  </tbody>\n",
       "</table>\n",
       "</div>"
      ],
      "text/plain": [
       "         application_id        user_id    gender  yearly_income  income_type  \\\n",
       "cluster                                                                        \n",
       "0          1.093542e+06  428000.171375  0.792410   5.565454e+07     0.235200   \n",
       "1          8.850879e+05  493230.595217  0.866612   1.359345e+08     0.626605   \n",
       "2          1.262958e+06  557950.328230  0.902671   4.941294e+08     0.021502   \n",
       "3          7.154373e+05  521340.628192  0.991439   9.462135e+09     0.043247   \n",
       "4          1.061515e+06  469715.510489  0.864615   8.383562e+07     0.365983   \n",
       "5          9.519087e+05  459167.559415  0.753403   6.982934e+07     0.317205   \n",
       "6          9.214342e+05  395057.463127  0.843619   1.341551e+09     0.292409   \n",
       "7          1.083273e+06  443332.814739  0.672348   3.731939e+07     0.400634   \n",
       "\n",
       "         employment_type  houseown_type  desired_amount   purpose  \\\n",
       "cluster                                                             \n",
       "0               0.133373       1.153192    3.909931e+07  0.698865   \n",
       "1               0.137693       0.748386    4.757995e+09  0.865572   \n",
       "2               0.423736       0.657904    9.862708e+09  0.482126   \n",
       "3               0.506273       1.522657    7.680148e+07  3.090627   \n",
       "4               0.113523       1.390587    5.261330e+07  0.683076   \n",
       "5               0.230511       0.901003    7.740638e+08  1.418611   \n",
       "6               0.676122       1.662749    1.719362e+08  0.491693   \n",
       "7               0.303983       0.777633    2.826953e+07  0.699164   \n",
       "\n",
       "         existing_loan_cnt  existing_loan_amt        age  \\\n",
       "cluster                                                    \n",
       "0                 5.793084       1.400972e+08  42.995436   \n",
       "1                 3.760815       1.501743e+08  40.032718   \n",
       "2                 2.905634       3.920587e+07  36.703681   \n",
       "3                 5.552325       7.417387e+07  37.608266   \n",
       "4                 6.105625       3.808876e+08  42.919372   \n",
       "5                 3.068370       1.328263e+08  40.343985   \n",
       "6                 2.961869       2.058499e+08  44.012635   \n",
       "7                 3.507139       3.970070e+07  40.844270   \n",
       "\n",
       "         continuous_service_month  insert_hour        pr  credit_rate  \\\n",
       "cluster                                                                 \n",
       "0                       80.098034    12.761821  1.002714     4.823196   \n",
       "1                       65.622397    12.323266  1.015573     4.750441   \n",
       "2                       33.218402    12.355279  1.047297     5.509288   \n",
       "3                      117.799262    15.506716  1.000000     5.483395   \n",
       "4                      116.980064    12.654286  1.000198     4.261022   \n",
       "5                       78.238792    12.894323  1.007135     4.182060   \n",
       "6                       56.572358    12.952812  1.000876     5.927773   \n",
       "7                       39.597994    12.867499  1.006749     5.144358   \n",
       "\n",
       "         product_id  is_applied     event  \n",
       "cluster                                    \n",
       "0        151.427595         1.0  4.486474  \n",
       "1        142.349358         1.0  4.692985  \n",
       "2        144.789956         1.0  4.493257  \n",
       "3        150.815646         1.0  4.420664  \n",
       "4        149.412930         1.0  4.485157  \n",
       "5        147.156370         1.0  4.579910  \n",
       "6        156.846221         1.0  4.062106  \n",
       "7        146.982722         1.0  4.476290  "
      ]
     },
     "execution_count": 34,
     "metadata": {},
     "output_type": "execute_result"
    }
   ],
   "source": [
    "all_mean1 = all_1.groupby(by='cluster').mean()\n",
    "all_mean1"
   ]
  },
  {
   "cell_type": "code",
   "execution_count": 17,
   "metadata": {
    "id": "nDUyVuj94Q5S"
   },
   "outputs": [
    {
     "name": "stdout",
     "output_type": "stream",
     "text": [
      "Silhouette Coefficient: 0.562\n"
     ]
    }
   ],
   "source": [
    "# 모델 평가\n",
    "\n",
    "# CLustering 알고리즘의 성능 평가 측도\n",
    "from sklearn.metrics import silhouette_score, calinski_harabasz_score\n",
    "\n",
    "print('Silhouette Coefficient: %.3f' % silhouette_score(all_1, model2.labels_, sample_size=1000))"
   ]
  },
  {
   "cell_type": "markdown",
   "metadata": {},
   "source": [
    "실루엣 계수가 가질 수 있는 값은 -1~1이며, 1에 가까울수록 군집화가 잘 되었음을 의미한다.\n",
    "> 실루엣 계수가 0.562이므로 군집화가 잘 되었다고 보기에는 애매하다."
   ]
  },
  {
   "cell_type": "markdown",
   "metadata": {},
   "source": [
    "군집의 수가 5일 때와 7일 때를 비교했을 때, 5인 경우의 실루엣 계수가 1에 더 가깝기 때문에  \n",
    "최적의 군집의 수를 5로 결정한다."
   ]
  },
  {
   "cell_type": "markdown",
   "metadata": {},
   "source": [
    "is_applied가 0일 때와 1일 때 모두 최적의 군집 수가 5이므로  \n",
    "군집에 따른 제안 메세지를 생성한다."
   ]
  }
 ],
 "metadata": {
  "colab": {
   "collapsed_sections": [],
   "provenance": []
  },
  "kernelspec": {
   "display_name": "Python 3",
   "language": "python",
   "name": "python3"
  },
  "language_info": {
   "codemirror_mode": {
    "name": "ipython",
    "version": 3
   },
   "file_extension": ".py",
   "mimetype": "text/x-python",
   "name": "python",
   "nbconvert_exporter": "python",
   "pygments_lexer": "ipython3",
   "version": "3.8.8"
  }
 },
 "nbformat": 4,
 "nbformat_minor": 1
}
