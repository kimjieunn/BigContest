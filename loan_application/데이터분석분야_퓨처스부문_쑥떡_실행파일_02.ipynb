{
  "nbformat": 4,
  "nbformat_minor": 0,
  "metadata": {
    "colab": {
      "provenance": [],
      "collapsed_sections": []
    },
    "kernelspec": {
      "name": "python3",
      "display_name": "Python 3"
    },
    "language_info": {
      "name": "python"
    },
    "accelerator": "GPU"
  },
  "cells": [
    {
      "cell_type": "code",
      "execution_count": null,
      "metadata": {
        "colab": {
          "base_uri": "https://localhost:8080/"
        },
        "id": "B8kAoxJUlSBe",
        "outputId": "cf36407e-829f-40a1-b91d-608da2b5273b"
      },
      "outputs": [
        {
          "output_type": "stream",
          "name": "stdout",
          "text": [
            "Drive already mounted at /content/drive; to attempt to forcibly remount, call drive.mount(\"/content/drive\", force_remount=True).\n"
          ]
        }
      ],
      "source": [
        "from google.colab import drive\n",
        "drive.mount('/content/drive')"
      ]
    },
    {
      "cell_type": "code",
      "source": [
        "cd /content/drive/MyDrive/프로젝트/뿌셔뿌셔_쑥떡"
      ],
      "metadata": {
        "colab": {
          "base_uri": "https://localhost:8080/"
        },
        "id": "99sX613nln2M",
        "outputId": "e40f5866-f08b-4503-e515-e7bb95e5b8d0"
      },
      "execution_count": null,
      "outputs": [
        {
          "output_type": "stream",
          "name": "stdout",
          "text": [
            "/content/drive/MyDrive/프로젝트/뿌셔뿌셔_쑥떡\n"
          ]
        }
      ]
    },
    {
      "cell_type": "code",
      "source": [
        "# # 한글 깨짐 방지\n",
        "# !sudo apt-get install -y fonts-nanum\n",
        "# !sudo fc-cache -fv\n",
        "# !rm ~/.cache/matplotlib -rf"
      ],
      "metadata": {
        "id": "WSdKNjv64Adi"
      },
      "execution_count": null,
      "outputs": []
    },
    {
      "cell_type": "code",
      "source": [
        "# 라이브러리 불러오기\n",
        "import pandas as pd\n",
        "import numpy as np\n",
        "import matplotlib.pyplot as plt\n",
        "import seaborn as sns\n",
        "import plotly.graph_objects as go\n",
        "from datetime import datetime\n",
        "\n",
        "plt.rc('font', family='NanumBarunGothic') "
      ],
      "metadata": {
        "id": "zuURRPW2lo47"
      },
      "execution_count": null,
      "outputs": []
    },
    {
      "cell_type": "code",
      "source": [],
      "metadata": {
        "id": "ECsbLL1AfkdR"
      },
      "execution_count": null,
      "outputs": []
    },
    {
      "cell_type": "markdown",
      "source": [
        "# User_spec EDA"
      ],
      "metadata": {
        "id": "vcGEX3RHfk-x"
      }
    },
    {
      "cell_type": "code",
      "source": [
        "# 데이터 불러오기\n",
        "user_spec = pd.read_csv('datasets/user_spec.csv',encoding='CP949')\n",
        "user_spec.info()"
      ],
      "metadata": {
        "colab": {
          "base_uri": "https://localhost:8080/"
        },
        "outputId": "a137bdb3-9949-4f24-8063-c95b21d3d988",
        "id": "ki44vWDDfk-y"
      },
      "execution_count": null,
      "outputs": [
        {
          "output_type": "stream",
          "name": "stdout",
          "text": [
            "<class 'pandas.core.frame.DataFrame'>\n",
            "RangeIndex: 1394216 entries, 0 to 1394215\n",
            "Data columns (total 17 columns):\n",
            " #   Column                               Non-Null Count    Dtype  \n",
            "---  ------                               --------------    -----  \n",
            " 0   application_id                       1394216 non-null  int64  \n",
            " 1   user_id                              1394216 non-null  int64  \n",
            " 2   birth_year                           1381255 non-null  float64\n",
            " 3   gender                               1381255 non-null  float64\n",
            " 4   insert_time                          1394216 non-null  object \n",
            " 5   credit_score                         1289101 non-null  float64\n",
            " 6   yearly_income                        1394126 non-null  float64\n",
            " 7   income_type                          1394131 non-null  object \n",
            " 8   company_enter_month                  1222456 non-null  float64\n",
            " 9   employment_type                      1394131 non-null  object \n",
            " 10  houseown_type                        1394131 non-null  object \n",
            " 11  desired_amount                       1394131 non-null  float64\n",
            " 12  purpose                              1394131 non-null  object \n",
            " 13  personal_rehabilitation_yn           806755 non-null   float64\n",
            " 14  personal_rehabilitation_complete_yn  190862 non-null   float64\n",
            " 15  existing_loan_cnt                    1195660 non-null  float64\n",
            " 16  existing_loan_amt                    1080442 non-null  float64\n",
            "dtypes: float64(10), int64(2), object(5)\n",
            "memory usage: 180.8+ MB\n"
          ]
        }
      ]
    },
    {
      "cell_type": "code",
      "source": [
        "user_spec = user_spec.dropna(subset=['gender','birth_year'])\n",
        "\n",
        "#age변수 추가\n",
        "user_spec['age'] = (2022 - user_spec['birth_year'])"
      ],
      "metadata": {
        "colab": {
          "base_uri": "https://localhost:8080/"
        },
        "outputId": "a5d0f6c2-845b-4e5f-9ae6-c1242cb78cee",
        "id": "Q4E6naslfk-z"
      },
      "execution_count": null,
      "outputs": [
        {
          "output_type": "stream",
          "name": "stderr",
          "text": [
            "/usr/local/lib/python3.7/dist-packages/ipykernel_launcher.py:4: SettingWithCopyWarning: \n",
            "A value is trying to be set on a copy of a slice from a DataFrame.\n",
            "Try using .loc[row_indexer,col_indexer] = value instead\n",
            "\n",
            "See the caveats in the documentation: https://pandas.pydata.org/pandas-docs/stable/user_guide/indexing.html#returning-a-view-versus-a-copy\n",
            "  after removing the cwd from sys.path.\n"
          ]
        }
      ]
    },
    {
      "cell_type": "code",
      "source": [
        "# credit_rate 변수 추가\n",
        "standard = [0, 334, 453, 529, 629, 697, 767, 834, 890, 941, 1000]\n",
        "label = [str(x) for x in range(len(standard)-1,0,-1)]\n",
        "\n",
        "user_spec['credit_rate'] = pd.cut(user_spec['credit_score'], standard, right=True, labels=label)"
      ],
      "metadata": {
        "id": "VCkSH2-sfk-z"
      },
      "execution_count": null,
      "outputs": []
    },
    {
      "cell_type": "code",
      "source": [
        "# 필요없는 변수 제거\n",
        "user_spec = user_spec.drop(['birth_year','personal_rehabilitation_complete_yn','personal_rehabilitation_yn','credit_score'], axis=1)"
      ],
      "metadata": {
        "id": "jfHL9jxsfk-z"
      },
      "execution_count": null,
      "outputs": []
    },
    {
      "cell_type": "code",
      "source": [
        "# 생성일시 데이터 형태 변환(문자형->날짜형)\n",
        "user_spec['insert_time'] = pd.to_datetime(user_spec['insert_time'])\n",
        "insert_year = user_spec['insert_time'].dt.year\n",
        "\n",
        "insert_month = user_spec['insert_time'].apply(lambda x : str(x).split('-')[0]+str(x).split('-')[1])\n",
        "\n",
        "# continue_year(파생변수 : 근속년수 생성)\n",
        "user_spec['enter_year'] = user_spec['company_enter_month'].fillna(insert_year).apply(lambda x : int(str(x)[0:4]))\n",
        "user_spec['continue_year'] = insert_year - user_spec['enter_year']\n",
        "\n",
        "# continue_month(파생변수 : 근속달수 생성)\n",
        "user_spec['enter_month'] = user_spec['company_enter_month'].fillna(insert_month).apply(lambda x : int(str(x)[4:6]))\n",
        "user_spec['continue_month'] = user_spec['continue_year']*12 + insert_month.apply(lambda x : int(str(x)[-2:])) - user_spec['enter_month']\n",
        "\n",
        "user_spec.drop(['insert_time','enter_year','company_enter_month','continue_year'],axis=1, inplace=True)\n",
        "user_spec.isnull().sum()"
      ],
      "metadata": {
        "colab": {
          "base_uri": "https://localhost:8080/"
        },
        "outputId": "c237564a-39a9-4b84-f74a-a9a5fe3a49ec",
        "id": "vM0aUYvrfk-z"
      },
      "execution_count": null,
      "outputs": [
        {
          "output_type": "execute_result",
          "data": {
            "text/plain": [
              "application_id            0\n",
              "user_id                   0\n",
              "gender                    0\n",
              "yearly_income            88\n",
              "income_type              83\n",
              "employment_type          83\n",
              "houseown_type            83\n",
              "desired_amount           83\n",
              "purpose                  83\n",
              "existing_loan_cnt    193311\n",
              "existing_loan_amt    307637\n",
              "age                       0\n",
              "credit_rate          103397\n",
              "enter_month               0\n",
              "continue_month            0\n",
              "dtype: int64"
            ]
          },
          "metadata": {},
          "execution_count": 9
        }
      ]
    },
    {
      "cell_type": "code",
      "source": [
        "# 문자열 변환 함수 \n",
        "def change_lang(target,kor, eng):\n",
        "  for i in range(len(kor)):\n",
        "   target = str(target).replace(kor[i], eng[i])\n",
        "  return target"
      ],
      "metadata": {
        "id": "QpF9rXAOfk-0"
      },
      "execution_count": null,
      "outputs": []
    },
    {
      "cell_type": "code",
      "source": [
        "# purpose\n",
        "kor = ['생활비', '대환대출', '사업자금', '기타', '전월세보증금', '주택구입','투자','자동차구입']\n",
        "eng = ['LIVING','SWITCHLOAN','BUSINESS','ETC','HOUSEDEPOSIT','BUYHOUSE','INVEST','BUYCAR'] \n",
        "\n",
        "user_spec['purpose'] = user_spec['purpose'].apply(change_lang, args=(kor, eng))"
      ],
      "metadata": {
        "id": "W72BsIJjfk-0"
      },
      "execution_count": null,
      "outputs": []
    },
    {
      "cell_type": "code",
      "source": [
        "# 결측값 제거\n",
        "user_spec.dropna(subset=['houseown_type'],inplace=True)"
      ],
      "metadata": {
        "id": "Zq_ToBRBfk-0"
      },
      "execution_count": null,
      "outputs": []
    },
    {
      "cell_type": "code",
      "source": [
        "# houseown_type, employment_type, purpose 범주 변환 함수\n",
        "def change(x, list):\n",
        "    return list.index(x)"
      ],
      "metadata": {
        "id": "RKjk82swfk-0"
      },
      "execution_count": null,
      "outputs": []
    },
    {
      "cell_type": "code",
      "source": [
        "list = ['전월세', '기타가족소유','자가','배우자']\n",
        "user_spec['houseown_type'] = user_spec['houseown_type'].apply(change, args=[list])"
      ],
      "metadata": {
        "id": "5tdhgYIMfk-0"
      },
      "execution_count": null,
      "outputs": []
    },
    {
      "cell_type": "code",
      "source": [
        "list = ['정규직','계약직','일용직','기타']\n",
        "user_spec['employment_type'] = user_spec['employment_type'].apply(change, args=[list])"
      ],
      "metadata": {
        "id": "7OC3nuZPfk-0"
      },
      "execution_count": null,
      "outputs": []
    },
    {
      "cell_type": "code",
      "source": [
        "list = ['LIVING','SWITCHLOAN','BUSINESS','ETC','HOUSEDEPOSIT','BUYHOUSE','INVEST','BUYCAR'] \n",
        "user_spec['purpose'] = user_spec['purpose'].apply(change, args=[list])"
      ],
      "metadata": {
        "id": "FHUuAA1Bfk-1"
      },
      "execution_count": null,
      "outputs": []
    },
    {
      "cell_type": "code",
      "source": [
        "user_spec.dropna(inplace=True)"
      ],
      "metadata": {
        "id": "ICM6HVtnfk-1"
      },
      "execution_count": null,
      "outputs": []
    },
    {
      "cell_type": "code",
      "source": [
        "user_spec.info()"
      ],
      "metadata": {
        "colab": {
          "base_uri": "https://localhost:8080/"
        },
        "outputId": "d8deb2ef-ae70-454b-aa72-76e3f8c3a063",
        "id": "p0oTif64fk-1"
      },
      "execution_count": null,
      "outputs": [
        {
          "output_type": "stream",
          "name": "stdout",
          "text": [
            "<class 'pandas.core.frame.DataFrame'>\n",
            "Int64Index: 1048182 entries, 0 to 1394214\n",
            "Data columns (total 15 columns):\n",
            " #   Column             Non-Null Count    Dtype   \n",
            "---  ------             --------------    -----   \n",
            " 0   application_id     1048182 non-null  int64   \n",
            " 1   user_id            1048182 non-null  int64   \n",
            " 2   gender             1048182 non-null  float64 \n",
            " 3   yearly_income      1048182 non-null  float64 \n",
            " 4   income_type        1048182 non-null  object  \n",
            " 5   employment_type    1048182 non-null  int64   \n",
            " 6   houseown_type      1048182 non-null  int64   \n",
            " 7   desired_amount     1048182 non-null  float64 \n",
            " 8   purpose            1048182 non-null  int64   \n",
            " 9   existing_loan_cnt  1048182 non-null  float64 \n",
            " 10  existing_loan_amt  1048182 non-null  float64 \n",
            " 11  age                1048182 non-null  float64 \n",
            " 12  credit_rate        1048182 non-null  category\n",
            " 13  enter_month        1048182 non-null  int64   \n",
            " 14  continue_month     1048182 non-null  int64   \n",
            "dtypes: category(1), float64(6), int64(7), object(1)\n",
            "memory usage: 121.0+ MB\n"
          ]
        }
      ]
    },
    {
      "cell_type": "code",
      "source": [
        "# 성별 빈도 시각화를 위한 확인\n",
        "user_spec['gender'].value_counts()"
      ],
      "metadata": {
        "colab": {
          "base_uri": "https://localhost:8080/"
        },
        "outputId": "4a0c3386-156a-46c6-9f40-a9179c32da99",
        "id": "G79lIA7Ifk-1"
      },
      "execution_count": null,
      "outputs": [
        {
          "output_type": "execute_result",
          "data": {
            "text/plain": [
              "1.0    713090\n",
              "0.0    335092\n",
              "Name: gender, dtype: int64"
            ]
          },
          "metadata": {},
          "execution_count": 19
        }
      ]
    },
    {
      "cell_type": "code",
      "source": [
        "user_spec[['gender','user_id']].groupby('gender').count()"
      ],
      "metadata": {
        "colab": {
          "base_uri": "https://localhost:8080/",
          "height": 143
        },
        "outputId": "b2bb9bae-7d44-4d61-b684-e73cbdef72bf",
        "id": "9A8GpyeFfk-1"
      },
      "execution_count": null,
      "outputs": [
        {
          "output_type": "execute_result",
          "data": {
            "text/plain": [
              "        user_id\n",
              "gender         \n",
              "0.0      335092\n",
              "1.0      713090"
            ],
            "text/html": [
              "\n",
              "  <div id=\"df-23d2f141-d77a-47e2-a62b-0546121c1145\">\n",
              "    <div class=\"colab-df-container\">\n",
              "      <div>\n",
              "<style scoped>\n",
              "    .dataframe tbody tr th:only-of-type {\n",
              "        vertical-align: middle;\n",
              "    }\n",
              "\n",
              "    .dataframe tbody tr th {\n",
              "        vertical-align: top;\n",
              "    }\n",
              "\n",
              "    .dataframe thead th {\n",
              "        text-align: right;\n",
              "    }\n",
              "</style>\n",
              "<table border=\"1\" class=\"dataframe\">\n",
              "  <thead>\n",
              "    <tr style=\"text-align: right;\">\n",
              "      <th></th>\n",
              "      <th>user_id</th>\n",
              "    </tr>\n",
              "    <tr>\n",
              "      <th>gender</th>\n",
              "      <th></th>\n",
              "    </tr>\n",
              "  </thead>\n",
              "  <tbody>\n",
              "    <tr>\n",
              "      <th>0.0</th>\n",
              "      <td>335092</td>\n",
              "    </tr>\n",
              "    <tr>\n",
              "      <th>1.0</th>\n",
              "      <td>713090</td>\n",
              "    </tr>\n",
              "  </tbody>\n",
              "</table>\n",
              "</div>\n",
              "      <button class=\"colab-df-convert\" onclick=\"convertToInteractive('df-23d2f141-d77a-47e2-a62b-0546121c1145')\"\n",
              "              title=\"Convert this dataframe to an interactive table.\"\n",
              "              style=\"display:none;\">\n",
              "        \n",
              "  <svg xmlns=\"http://www.w3.org/2000/svg\" height=\"24px\"viewBox=\"0 0 24 24\"\n",
              "       width=\"24px\">\n",
              "    <path d=\"M0 0h24v24H0V0z\" fill=\"none\"/>\n",
              "    <path d=\"M18.56 5.44l.94 2.06.94-2.06 2.06-.94-2.06-.94-.94-2.06-.94 2.06-2.06.94zm-11 1L8.5 8.5l.94-2.06 2.06-.94-2.06-.94L8.5 2.5l-.94 2.06-2.06.94zm10 10l.94 2.06.94-2.06 2.06-.94-2.06-.94-.94-2.06-.94 2.06-2.06.94z\"/><path d=\"M17.41 7.96l-1.37-1.37c-.4-.4-.92-.59-1.43-.59-.52 0-1.04.2-1.43.59L10.3 9.45l-7.72 7.72c-.78.78-.78 2.05 0 2.83L4 21.41c.39.39.9.59 1.41.59.51 0 1.02-.2 1.41-.59l7.78-7.78 2.81-2.81c.8-.78.8-2.07 0-2.86zM5.41 20L4 18.59l7.72-7.72 1.47 1.35L5.41 20z\"/>\n",
              "  </svg>\n",
              "      </button>\n",
              "      \n",
              "  <style>\n",
              "    .colab-df-container {\n",
              "      display:flex;\n",
              "      flex-wrap:wrap;\n",
              "      gap: 12px;\n",
              "    }\n",
              "\n",
              "    .colab-df-convert {\n",
              "      background-color: #E8F0FE;\n",
              "      border: none;\n",
              "      border-radius: 50%;\n",
              "      cursor: pointer;\n",
              "      display: none;\n",
              "      fill: #1967D2;\n",
              "      height: 32px;\n",
              "      padding: 0 0 0 0;\n",
              "      width: 32px;\n",
              "    }\n",
              "\n",
              "    .colab-df-convert:hover {\n",
              "      background-color: #E2EBFA;\n",
              "      box-shadow: 0px 1px 2px rgba(60, 64, 67, 0.3), 0px 1px 3px 1px rgba(60, 64, 67, 0.15);\n",
              "      fill: #174EA6;\n",
              "    }\n",
              "\n",
              "    [theme=dark] .colab-df-convert {\n",
              "      background-color: #3B4455;\n",
              "      fill: #D2E3FC;\n",
              "    }\n",
              "\n",
              "    [theme=dark] .colab-df-convert:hover {\n",
              "      background-color: #434B5C;\n",
              "      box-shadow: 0px 1px 3px 1px rgba(0, 0, 0, 0.15);\n",
              "      filter: drop-shadow(0px 1px 2px rgba(0, 0, 0, 0.3));\n",
              "      fill: #FFFFFF;\n",
              "    }\n",
              "  </style>\n",
              "\n",
              "      <script>\n",
              "        const buttonEl =\n",
              "          document.querySelector('#df-23d2f141-d77a-47e2-a62b-0546121c1145 button.colab-df-convert');\n",
              "        buttonEl.style.display =\n",
              "          google.colab.kernel.accessAllowed ? 'block' : 'none';\n",
              "\n",
              "        async function convertToInteractive(key) {\n",
              "          const element = document.querySelector('#df-23d2f141-d77a-47e2-a62b-0546121c1145');\n",
              "          const dataTable =\n",
              "            await google.colab.kernel.invokeFunction('convertToInteractive',\n",
              "                                                     [key], {});\n",
              "          if (!dataTable) return;\n",
              "\n",
              "          const docLinkHtml = 'Like what you see? Visit the ' +\n",
              "            '<a target=\"_blank\" href=https://colab.research.google.com/notebooks/data_table.ipynb>data table notebook</a>'\n",
              "            + ' to learn more about interactive tables.';\n",
              "          element.innerHTML = '';\n",
              "          dataTable['output_type'] = 'display_data';\n",
              "          await google.colab.output.renderOutput(dataTable, element);\n",
              "          const docLink = document.createElement('div');\n",
              "          docLink.innerHTML = docLinkHtml;\n",
              "          element.appendChild(docLink);\n",
              "        }\n",
              "      </script>\n",
              "    </div>\n",
              "  </div>\n",
              "  "
            ]
          },
          "metadata": {},
          "execution_count": 20
        }
      ]
    },
    {
      "cell_type": "code",
      "source": [
        "# 성별 빈도 시각화\n",
        "gender = user_spec[['gender','user_id']].groupby('gender').count()\n",
        "fig = plt.figure(figsize=(5,5))\n",
        "fig.set_facecolor('white')\n",
        "plt.pie(gender, labels=['여자','남자'], autopct=\"%.1f%%\",counterclock=False,wedgeprops={'edgecolor':'k','linestyle':'--','linewidth':2})\n",
        "plt.title('Gender Distribution')\n",
        "plt.show()"
      ],
      "metadata": {
        "colab": {
          "base_uri": "https://localhost:8080/",
          "height": 355
        },
        "outputId": "d6713a70-2ca9-4955-a03f-c438f5b2b488",
        "id": "KxG8EwSVfk-1"
      },
      "execution_count": null,
      "outputs": [
        {
          "output_type": "stream",
          "name": "stderr",
          "text": [
            "/usr/local/lib/python3.7/dist-packages/ipykernel_launcher.py:5: MatplotlibDeprecationWarning: Non-1D inputs to pie() are currently squeeze()d, but this behavior is deprecated since 3.1 and will be removed in 3.3; pass a 1D array instead.\n",
            "  \"\"\"\n"
          ]
        },
        {
          "output_type": "display_data",
          "data": {
            "text/plain": [
              "<Figure size 360x360 with 1 Axes>"
            ],
            "image/png": "[encoded data removed]"
          },
          "metadata": {}
        }
      ]
    },
    {
      "cell_type": "code",
      "source": [
        "# 연령 시각화를 위한 확인\n",
        "user_spec['age'].value_counts()"
      ],
      "metadata": {
        "colab": {
          "base_uri": "https://localhost:8080/"
        },
        "outputId": "29512269-bf7e-4ad2-cb41-d737d44b1c78",
        "id": "JRgiW7Bifk-2"
      },
      "execution_count": null,
      "outputs": [
        {
          "output_type": "execute_result",
          "data": {
            "text/plain": [
              "40.0    42589\n",
              "41.0    40247\n",
              "30.0    39364\n",
              "42.0    37955\n",
              "39.0    37646\n",
              "        ...  \n",
              "85.0       16\n",
              "90.0        7\n",
              "89.0        2\n",
              "91.0        1\n",
              "92.0        1\n",
              "Name: age, Length: 74, dtype: int64"
            ]
          },
          "metadata": {},
          "execution_count": 22
        }
      ]
    },
    {
      "cell_type": "code",
      "source": [
        "# 연령 범주화\n",
        "# 1. 19~29\n",
        "# 2. 30~39\n",
        "# 3. 40~49\n",
        "# 4. 50~59\n",
        "# 5. 60 ~ \n",
        "\n",
        "\n",
        "def get_category(age):\n",
        "    age_cat = ''\n",
        "    if age <= 29: age_cat = '20대'\n",
        "    elif age <= 39: age_cat = '30대'\n",
        "    elif age <= 49: age_cat = '40대'\n",
        "    elif age <= 59: age_cat = '50대'\n",
        "    else : age_cat = '60대이상'\n",
        "    \n",
        "    return age_cat\n",
        "\n",
        "# plt.rc(\"font\", family = \"NanumBarunGothic\")\n",
        "\n",
        "plt.figure(figsize=(10,6))\n",
        " \n",
        "group_names = ['20대', '30대', '40대', '50대', '60대이상']\n",
        "\n",
        "user_spec['age_cat'] = user_spec['age'].apply(lambda x : get_category(x))\n",
        "\n",
        "# user_spec.drop('age_cat', axis=1, inplace=True)"
      ],
      "metadata": {
        "colab": {
          "base_uri": "https://localhost:8080/",
          "height": 35
        },
        "outputId": "0eb5b5d1-af26-4eed-e611-c47c124a5a99",
        "id": "9GpBw5HGfk-2"
      },
      "execution_count": null,
      "outputs": [
        {
          "output_type": "display_data",
          "data": {
            "text/plain": [
              "<Figure size 720x432 with 0 Axes>"
            ]
          },
          "metadata": {}
        }
      ]
    },
    {
      "cell_type": "code",
      "source": [
        "user_spec.to_csv('pp_user_spec.csv',index=False)"
      ],
      "metadata": {
        "id": "CAFRCmKPgG7d"
      },
      "execution_count": null,
      "outputs": []
    },
    {
      "cell_type": "code",
      "source": [
        "# 연령 시각화\n",
        "g_age = user_spec[['age_cat','user_id']].groupby('age_cat').count()\n",
        "fig = plt.figure(figsize=(5,5))\n",
        "fig.set_facecolor('white')\n",
        "plt.pie(g_age, labels = g_age.index, autopct=\"%.1f%%\",counterclock=False,wedgeprops={'edgecolor':'k','linestyle':'--','linewidth':2})\n",
        "plt.title('Age Distribution')\n",
        "plt.show()"
      ],
      "metadata": {
        "colab": {
          "base_uri": "https://localhost:8080/",
          "height": 355
        },
        "outputId": "6a96b092-9cbc-472a-931a-d492b02dc63e",
        "id": "-1PiQsVgfk-2"
      },
      "execution_count": null,
      "outputs": [
        {
          "output_type": "stream",
          "name": "stderr",
          "text": [
            "/usr/local/lib/python3.7/dist-packages/ipykernel_launcher.py:5: MatplotlibDeprecationWarning: Non-1D inputs to pie() are currently squeeze()d, but this behavior is deprecated since 3.1 and will be removed in 3.3; pass a 1D array instead.\n",
            "  \"\"\"\n"
          ]
        },
        {
          "output_type": "display_data",
          "data": {
            "text/plain": [
              "<Figure size 360x360 with 1 Axes>"
            ],
            "image/png": "[encoded data removed]"
          },
          "metadata": {}
        }
      ]
    },
    {
      "cell_type": "code",
      "source": [
        "# income_type 시각화를 위한 빈도 확인\n",
        "user_spec['income_type'].value_counts()"
      ],
      "metadata": {
        "colab": {
          "base_uri": "https://localhost:8080/"
        },
        "outputId": "96f8458c-1c6a-459c-8a2a-61eb948d4942",
        "id": "N0HhA2kQfk-2"
      },
      "execution_count": null,
      "outputs": [
        {
          "output_type": "execute_result",
          "data": {
            "text/plain": [
              "EARNEDINCOME       692878\n",
              "OTHERINCOME        119768\n",
              "PRIVATEBUSINESS     90931\n",
              "FREELANCER          73545\n",
              "EARNEDINCOME2       56917\n",
              "PRACTITIONER        14143\n",
              "Name: income_type, dtype: int64"
            ]
          },
          "metadata": {},
          "execution_count": 26
        }
      ]
    },
    {
      "cell_type": "code",
      "source": [
        "# income_type 시각화\n",
        "income = user_spec.groupby([\"income_type\"])[\"user_id\"].count()\n",
        "income.plot(kind='bar')"
      ],
      "metadata": {
        "colab": {
          "base_uri": "https://localhost:8080/",
          "height": 373
        },
        "outputId": "af9934e0-9538-4335-8f06-854a2caeac38",
        "id": "sqgaPyAQfk-2"
      },
      "execution_count": null,
      "outputs": [
        {
          "output_type": "execute_result",
          "data": {
            "text/plain": [
              "<matplotlib.axes._subplots.AxesSubplot at 0x7f0397095910>"
            ]
          },
          "metadata": {},
          "execution_count": 27
        },
        {
          "output_type": "display_data",
          "data": {
            "text/plain": [
              "<Figure size 432x288 with 1 Axes>"
            ],
            "image/png": "[encoded data removed]"
          },
          "metadata": {
            "needs_background": "light"
          }
        }
      ]
    },
    {
      "cell_type": "code",
      "source": [
        "# employment_type 시각화\n",
        "employment_type = user_spec.groupby([\"employment_type\"])[\"user_id\"].count()\n",
        "employment_type=employment_type.plot(kind='bar')\n",
        "employment_type.set_xticklabels(['정규직','계약직','일용직','기타'])"
      ],
      "metadata": {
        "colab": {
          "base_uri": "https://localhost:8080/",
          "height": 314
        },
        "outputId": "c2dd556c-8361-47c7-d267-c45195b4916e",
        "id": "tBezDIzafk-2"
      },
      "execution_count": null,
      "outputs": [
        {
          "output_type": "execute_result",
          "data": {
            "text/plain": [
              "[Text(0, 0, '정규직'), Text(0, 0, '계약직'), Text(0, 0, '일용직'), Text(0, 0, '기타')]"
            ]
          },
          "metadata": {},
          "execution_count": 28
        },
        {
          "output_type": "display_data",
          "data": {
            "text/plain": [
              "<Figure size 432x288 with 1 Axes>"
            ],
            "image/png": "[encoded data removed]"
          },
          "metadata": {
            "needs_background": "light"
          }
        }
      ]
    },
    {
      "cell_type": "code",
      "source": [
        "# houseown_type 시각화\n",
        "houseown_type = user_spec.groupby([\"houseown_type\"])[\"user_id\"].count()\n",
        "houseown_type=houseown_type.plot(kind='bar')\n",
        "houseown_type.set_xticklabels(['전월세', '기타가족소유','자가','배우자'])"
      ],
      "metadata": {
        "colab": {
          "base_uri": "https://localhost:8080/",
          "height": 341
        },
        "outputId": "63f1540d-99cc-4199-fe10-85d6aac0bcff",
        "id": "lsfUnBw4fk-2"
      },
      "execution_count": null,
      "outputs": [
        {
          "output_type": "execute_result",
          "data": {
            "text/plain": [
              "[Text(0, 0, '전월세'), Text(0, 0, '기타가족소유'), Text(0, 0, '자가'), Text(0, 0, '배우자')]"
            ]
          },
          "metadata": {},
          "execution_count": 29
        },
        {
          "output_type": "display_data",
          "data": {
            "text/plain": [
              "<Figure size 432x288 with 1 Axes>"
            ],
            "image/png": "[encoded data removed]"
          },
          "metadata": {
            "needs_background": "light"
          }
        }
      ]
    },
    {
      "cell_type": "code",
      "source": [
        "# purpose 시각화\n",
        "purpose = user_spec.groupby([\"purpose\"])[\"user_id\"].count()\n",
        "purpose = purpose.plot(kind='bar')\n",
        "purpose.set_xticklabels(['LIVING','SWITCHLOAN','BUSINESS','ETC','HOUSEDEPOSIT','BUYHOUSE','INVEST','BUYCAR'])"
      ],
      "metadata": {
        "colab": {
          "base_uri": "https://localhost:8080/",
          "height": 491
        },
        "outputId": "2f0ec681-b7e4-4dca-b8fc-cce6d9c9826e",
        "id": "jTGCMAYkfk-3"
      },
      "execution_count": null,
      "outputs": [
        {
          "output_type": "execute_result",
          "data": {
            "text/plain": [
              "[Text(0, 0, 'LIVING'),\n",
              " Text(0, 0, 'SWITCHLOAN'),\n",
              " Text(0, 0, 'BUSINESS'),\n",
              " Text(0, 0, 'ETC'),\n",
              " Text(0, 0, 'HOUSEDEPOSIT'),\n",
              " Text(0, 0, 'BUYHOUSE'),\n",
              " Text(0, 0, 'INVEST'),\n",
              " Text(0, 0, 'BUYCAR')]"
            ]
          },
          "metadata": {},
          "execution_count": 30
        },
        {
          "output_type": "display_data",
          "data": {
            "text/plain": [
              "<Figure size 432x288 with 1 Axes>"
            ],
            "image/png": "[encoded data removed]"
          },
          "metadata": {
            "needs_background": "light"
          }
        }
      ]
    },
    {
      "cell_type": "code",
      "source": [],
      "metadata": {
        "id": "2ZQhYXwjfsOZ"
      },
      "execution_count": null,
      "outputs": []
    },
    {
      "cell_type": "markdown",
      "source": [
        "# Loan_result EDA"
      ],
      "metadata": {
        "id": "glj7nj87fsw2"
      }
    },
    {
      "cell_type": "code",
      "source": [
        "# 데이터 불러오기\n",
        "loan_result = pd.read_csv('datasets/loan_result.csv')\n",
        "loan_result.info()"
      ],
      "metadata": {
        "colab": {
          "base_uri": "https://localhost:8080/"
        },
        "outputId": "626af43d-50b8-4461-b397-7f2ca98f8775",
        "id": "89wuS9Nqfsw3"
      },
      "execution_count": null,
      "outputs": [
        {
          "output_type": "stream",
          "name": "stdout",
          "text": [
            "<class 'pandas.core.frame.DataFrame'>\n",
            "RangeIndex: 13527363 entries, 0 to 13527362\n",
            "Data columns (total 7 columns):\n",
            " #   Column                 Dtype  \n",
            "---  ------                 -----  \n",
            " 0   application_id         int64  \n",
            " 1   loanapply_insert_time  object \n",
            " 2   bank_id                int64  \n",
            " 3   product_id             int64  \n",
            " 4   loan_limit             float64\n",
            " 5   loan_rate              float64\n",
            " 6   is_applied             float64\n",
            "dtypes: float64(3), int64(3), object(1)\n",
            "memory usage: 722.4+ MB\n"
          ]
        }
      ]
    },
    {
      "cell_type": "code",
      "source": [
        "# 필요없는 데이터 제거후 결측치 확인\n",
        "loan_result.dropna(subset=['loan_limit','loan_rate'], inplace=True)\n",
        "loan_result.isnull().sum()"
      ],
      "metadata": {
        "colab": {
          "base_uri": "https://localhost:8080/"
        },
        "outputId": "a51d4eed-811a-4a5a-f1a0-332b2fa29b47",
        "id": "55DaX_qkfsw4"
      },
      "execution_count": null,
      "outputs": [
        {
          "output_type": "execute_result",
          "data": {
            "text/plain": [
              "application_id                 0\n",
              "loanapply_insert_time          0\n",
              "bank_id                        0\n",
              "product_id                     0\n",
              "loan_limit                     0\n",
              "loan_rate                      0\n",
              "is_applied               3255482\n",
              "dtype: int64"
            ]
          },
          "metadata": {},
          "execution_count": 32
        }
      ]
    },
    {
      "cell_type": "code",
      "source": [
        "# Is_applied 빈도 확인\n",
        "app = loan_result['is_applied'].value_counts(dropna=False)\n",
        "app"
      ],
      "metadata": {
        "colab": {
          "base_uri": "https://localhost:8080/"
        },
        "outputId": "c69a7a4a-790b-43bf-b417-2cdda0b62c47",
        "id": "_l-Jjr8mfsw5"
      },
      "execution_count": null,
      "outputs": [
        {
          "output_type": "execute_result",
          "data": {
            "text/plain": [
              "0.0    9709675\n",
              "NaN    3255482\n",
              "1.0     554711\n",
              "Name: is_applied, dtype: int64"
            ]
          },
          "metadata": {},
          "execution_count": 33
        }
      ]
    },
    {
      "cell_type": "code",
      "source": [
        "# Is_applied 빈도 시각화\n",
        "fig = plt.figure(figsize=(5,5))\n",
        "fig.set_facecolor('white')\n",
        "plt.pie(app, labels=['신청X','신청O','NaN'], autopct=\"%.1f%%\",counterclock=False,wedgeprops={'edgecolor':'k','linestyle':'--','linewidth':2})\n",
        "plt.title('Is_applied distribution')\n",
        "plt.show()"
      ],
      "metadata": {
        "colab": {
          "base_uri": "https://localhost:8080/",
          "height": 318
        },
        "outputId": "432e63ec-0c50-414c-bc67-fdf3e5b78899",
        "id": "b1iuQQfMfsw5"
      },
      "execution_count": null,
      "outputs": [
        {
          "output_type": "display_data",
          "data": {
            "text/plain": [
              "<Figure size 360x360 with 1 Axes>"
            ],
            "image/png": "[encoded data removed]"
          },
          "metadata": {}
        }
      ]
    },
    {
      "cell_type": "markdown",
      "source": [
        "# Log EDA"
      ],
      "metadata": {
        "id": "dwrsotW-rCBq"
      }
    },
    {
      "cell_type": "code",
      "source": [
        "# 데이터 불러오기\n",
        "log_data = pd.read_csv('datasets/log_data.csv')\n",
        "log_data.info()"
      ],
      "metadata": {
        "colab": {
          "base_uri": "https://localhost:8080/"
        },
        "id": "FX_s4BfUl0-T",
        "outputId": "fff944d9-9d22-42d0-bd72-aacc9cb273d9"
      },
      "execution_count": null,
      "outputs": [
        {
          "output_type": "stream",
          "name": "stdout",
          "text": [
            "<class 'pandas.core.frame.DataFrame'>\n",
            "RangeIndex: 17843993 entries, 0 to 17843992\n",
            "Data columns (total 6 columns):\n",
            " #   Column          Dtype \n",
            "---  ------          ----- \n",
            " 0   user_id         int64 \n",
            " 1   event           object\n",
            " 2   timestamp       object\n",
            " 3   mp_os           object\n",
            " 4   mp_app_version  object\n",
            " 5   date_cd         object\n",
            "dtypes: int64(1), object(5)\n",
            "memory usage: 816.8+ MB\n"
          ]
        }
      ]
    },
    {
      "cell_type": "code",
      "source": [
        "log_data.drop(['mp_os','mp_app_version','date_cd'],inplace=True,axis=1)"
      ],
      "metadata": {
        "id": "8D489YxuEaqc"
      },
      "execution_count": null,
      "outputs": []
    },
    {
      "cell_type": "code",
      "source": [
        "# evnet 변수 숫자형으로 변환하여 분석 속도 높이기\n",
        "\n",
        "cate = ['SignUp','OpenApp','Login','ViewLoanApplyIntro','StartLoanApply','CompleteIDCertification','EndLoanApply','UseLoanManage','UsePrepayCalc','UseDSRCalc','GetCreditInfo']\n",
        "\n",
        "log_data['event'] = log_data['event'].apply(lambda x : str(cate.index(x)))\n",
        "log_data['event'].value_counts()"
      ],
      "metadata": {
        "colab": {
          "base_uri": "https://localhost:8080/"
        },
        "id": "Ti2_25rBEOMG",
        "outputId": "dc266112-c54d-43e8-e8f3-352e60c93a86"
      },
      "execution_count": null,
      "outputs": [
        {
          "output_type": "execute_result",
          "data": {
            "text/plain": [
              "1     3460762\n",
              "6     2715253\n",
              "10    2661997\n",
              "2     2463755\n",
              "4     1893914\n",
              "3     1804712\n",
              "7     1558906\n",
              "5     1237777\n",
              "0       34892\n",
              "8        7360\n",
              "9        4665\n",
              "Name: event, dtype: int64"
            ]
          },
          "metadata": {},
          "execution_count": 37
        }
      ]
    },
    {
      "cell_type": "code",
      "source": [
        "log_data['timestamp'] = pd.to_datetime(log_data['timestamp'])\n",
        "log_data.info()"
      ],
      "metadata": {
        "id": "gYo4hX2R2SUe",
        "colab": {
          "base_uri": "https://localhost:8080/"
        },
        "outputId": "a01ccef2-87be-4667-baeb-ed573c8c1189"
      },
      "execution_count": null,
      "outputs": [
        {
          "output_type": "stream",
          "name": "stdout",
          "text": [
            "<class 'pandas.core.frame.DataFrame'>\n",
            "RangeIndex: 17843993 entries, 0 to 17843992\n",
            "Data columns (total 3 columns):\n",
            " #   Column     Dtype         \n",
            "---  ------     -----         \n",
            " 0   user_id    int64         \n",
            " 1   event      object        \n",
            " 2   timestamp  datetime64[ns]\n",
            "dtypes: datetime64[ns](1), int64(1), object(1)\n",
            "memory usage: 408.4+ MB\n"
          ]
        }
      ]
    },
    {
      "cell_type": "code",
      "source": [
        "log_data.to_csv('pp_log_data.csv',index=False)"
      ],
      "metadata": {
        "id": "OHPA01fQgWqG"
      },
      "execution_count": null,
      "outputs": []
    },
    {
      "cell_type": "code",
      "source": [
        "# 선행페이지와 후행페이지 count(event 중복 제거)\n",
        "\n",
        "b_f_count = {}\n",
        "for i in range(1,len(log_data)):\n",
        "    if (log_data.iloc[i]['user_id']!=log_data.iloc[i-1]['user_id']) or (log_data.iloc[i]['timestamp'].date() != log_data.iloc[i-1]['timestamp'].date()) or (log_data.iloc[i]['event'] == log_data.iloc[i-1]['event']):\n",
        "        continue\n",
        "    else :\n",
        "        if (log_data.iloc[i-1]['event'], log_data.iloc[i]['event']) in b_f_count.keys() :\n",
        "            b_f_count[(log_data.iloc[i-1]['event'], log_data.iloc[i]['event'])] += 1\n",
        "        else :\n",
        "            b_f_count[(log_data.iloc[i-1]['event'], log_data.iloc[i]['event'])] = 1\n",
        "print(b_f_count)"
      ],
      "metadata": {
        "id": "aJu2B-XMAuDq"
      },
      "execution_count": null,
      "outputs": []
    },
    {
      "cell_type": "code",
      "source": [],
      "metadata": {
        "id": "LS7VVFyEMwnk"
      },
      "execution_count": null,
      "outputs": []
    },
    {
      "cell_type": "code",
      "source": [
        "# 선행페이지와 후행페이지에서 event 중복 제거 전\n",
        "\n",
        "# a = {('10', '10'): 514700, ('7', '2'): 48282, ('2', '10'): 676712, ('1', '10'): 203868, ('10', '7'): 583488, ('7', '10'): 727399, ('10', '8'): 1569, ('8', '4'): 694, ('4', '3'): 1198890, ('3', '5'): 1143369, ('5', '6'): 1073933, ('6', '7'): 154207, ('7', '7'): 124647, ('7', '3'): 70500, ('6', '10'): 121516, ('10', '6'): 43808, ('6', '6'): 738912, ('7', '4'): 123963, ('4', '6'): 685076, ('6', '1'): 473535, ('1', '3'): 12489, ('3', '10'): 133937, ('1', '4'): 232834, ('1', '2'): 2139317, ('2', '4'): 856762, ('3', '1'): 100303, ('10', '4'): 307198, ('6', '5'): 4228, ('6', '4'): 168485, ('1', '1'): 211687, ('6', '3'): 246275, ('3', '6'): 55599, ('7', '1'): 125964, ('2', '7'): 493738, ('10', '2'): 122675, ('2', '3'): 111771, ('10', '1'): 214366, ('1', '7'): 115537, ('10', '3'): 113652, ('3', '3'): 33502, ('10', '5'): 66524, ('3', '4'): 94135, ('3', '7'): 56864, ('3', '0'): 4486, ('0', '4'): 12619, ('7', '6'): 65952, ('10', '0'): 866, ('0', '7'): 3241, ('5', '1'): 28637, ('2', '1'): 111079, ('1', '0'): 12541, ('0', '1'): 1222, ('4', '7'): 632, ('1', '5'): 3258, ('5', '0'): 14457, ('1', '6'): 4168, ('7', '5'): 2279, ('5', '4'): 28004, ('5', '5'): 3808, ('5', '10'): 9045, ('7', '8'): 2896, ('8', '10'): 1388, ('2', '6'): 28871, ('2', '5'): 7565, ('0', '10'): 3875, ('5', '3'): 8932, ('3', '8'): 420, ('7', '9'): 2292, ('9', '10'): 833, ('4', '4'): 2437, ('2', '0'): 1378, ('5', '7'): 4355, ('8', '1'): 441, ('4', '1'): 2335, ('9', '8'): 847, ('0', '5'): 694, ('9', '3'): 339, ('4', '5'): 1537, ('3', '9'): 327, ('8', '7'): 345, ('10', '9'): 1334, ('6', '2'): 1071, ('0', '3'): 906, ('6', '0'): 305, ('8', '8'): 1567, ('4', '10'): 1181, ('2', '2'): 545, ('9', '6'): 139, ('3', '2'): 291, ('8', '6'): 266, ('7', '0'): 369, ('0', '6'): 84, ('8', '9'): 433, ('9', '1'): 323, ('8', '3'): 527, ('0', '0'): 101, ('5', '2'): 164, ('9', '9'): 232, ('9', '4'): 466, ('9', '5'): 4, ('9', '7'): 147, ('8', '5'): 3, ('0', '2'): 14, ('6', '8'): 15, ('6', '9'): 8, ('2', '9'): 6, ('1', '9'): 11, ('4', '0'): 6, ('4', '2'): 2, ('4', '8'): 1, ('2', '8'): 6, ('1', '8'): 2}\n",
        "# len(a.values())"
      ],
      "metadata": {
        "id": "GrZdu6WA8pTU"
      },
      "execution_count": null,
      "outputs": []
    },
    {
      "cell_type": "code",
      "source": [
        "# a1 = sorted(a.items())\n",
        "# a1"
      ],
      "metadata": {
        "id": "-NMVSTu_8pQM"
      },
      "execution_count": null,
      "outputs": []
    },
    {
      "cell_type": "code",
      "source": [
        "# 표 만들기\n",
        "import pandas as pd\n",
        "\n",
        "df = pd.DataFrame(columns = ['before','after','count'])\n",
        "for i, j in enumerate(b_f_count) :\n",
        "  if j[0][0] != j[0][1] :\n",
        "    df.loc[i] = [int(j[0][0]), int(j[0][1]), int(j[1])]\n",
        "\n",
        "df = df.sort_values(by =['before','count'], ascending=[True, False])\n",
        "df.reset_index(inplace=True, drop=True)\n",
        "\n",
        "df = df.astype('int64')\n",
        "df.info()"
      ],
      "metadata": {
        "id": "YoOj4UtvpEt8"
      },
      "execution_count": null,
      "outputs": []
    },
    {
      "cell_type": "code",
      "source": [
        "df_max = df.groupby(['before']).head(1)\n",
        "df_max"
      ],
      "metadata": {
        "id": "RfGHjnRYoRk5"
      },
      "execution_count": null,
      "outputs": []
    },
    {
      "cell_type": "code",
      "source": [
        "# 선행페이지와 후행페이지 event 최대 빈도 시각화1\n",
        "fig = plt.figure(figsize=(8, 7))\n",
        "sns.scatterplot(x='before',y='after',data=df_max, hue='count', size='count',sizes=(60, 900), legend=False, palette=\"dark\", alpha=0.4)\n",
        "\n",
        "for i in range(len(df_max)):\n",
        "  plt.annotate((df_max.iloc[i]['before'],df_max.iloc[i]['after']), (df_max.iloc[i]['before'],df_max.iloc[i]['after']+0.3), \n",
        "               horizontalalignment='center')\n",
        "  \n",
        "sns.set(font_scale=1)\n",
        "plt.show()"
      ],
      "metadata": {
        "id": "uTAurG_0w2Ty"
      },
      "execution_count": null,
      "outputs": []
    },
    {
      "cell_type": "code",
      "source": [
        "# 선행페이지와 후행페이지 event 최대 빈도 시각화2\n",
        "\n",
        "fig = go.Figure(data=go.Scatter(\n",
        "    x=df_max['before'],\n",
        "    y=df_max['after'],\n",
        "    mode='markers',\n",
        "    textposition='top center',\n",
        "    marker=dict(size=np.log2(df_max['count']),color=df_max['count']),\n",
        "    text = df_max['count'],\n",
        "    hovertemplate = \"(%{x}, %{y}) <br>%{text:,}<extra></extra>\"\n",
        "))\n",
        "\n",
        "fig.update_layout(\n",
        "    autosize=False,\n",
        "    width=600,\n",
        "    height=450,\n",
        ")\n",
        "fig.show()"
      ],
      "metadata": {
        "id": "tzeVt-OG1aYo"
      },
      "execution_count": null,
      "outputs": []
    },
    {
      "cell_type": "code",
      "source": [],
      "metadata": {
        "id": "_1h4DiAEO-tM"
      },
      "execution_count": null,
      "outputs": []
    }
  ]
}